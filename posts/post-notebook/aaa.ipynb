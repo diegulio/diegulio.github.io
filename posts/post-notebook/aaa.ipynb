{
  "cells": [
    {
      "cell_type": "markdown",
      "id": "7c98487d",
      "metadata": {
        "_cell_guid": "b1076dfc-b9ad-4769-8c92-a6c4dae69d19",
        "_uuid": "8f2839f25d086af736a60e9eeb907d3b93b6e0e5",
        "papermill": {
          "duration": 0.014918,
          "end_time": "2022-12-12T03:03:02.096223",
          "exception": false,
          "start_time": "2022-12-12T03:03:02.081305",
          "status": "completed"
        },
        "tags": [],
        "id": "7c98487d"
      },
      "source": [
        "# 4. BERT (Bidirectional Encoder Representations from Transformers)\n",
        "\n",
        "As we see in the previous notebook, RNN improve the results and give us some benefits. But they are expensive to train, mainly because they are not paralellizable! Now we are in the transformers era. Transformers are models that leverage the mechanism of **self-attention**.\n",
        "\n",
        "In this specific case we will apply BERT. I will let you with some references that help me to understand what is happend behind scenes:\n",
        "\n",
        "- http://nlp.seas.harvard.edu/annotated-transformer/\n",
        "- http://jalammar.github.io/illustrated-transformer/\n",
        "- https://jalammar.github.io/visualizing-neural-machine-translation-mechanics-of-seq2seq-models-with-attention/\n",
        "- https://www.youtube.com/watch?v=xI0HHN5XKDo&t=2s&pp=ugMICgJlcxABGAE%3D\n",
        "- https://www.youtube.com/watch?v=7kLi8u2dJz0\n",
        "- https://www.youtube.com/watch?v=TQQlZhbC5ps&list=PLTl9hO2Oobd_bzXUpzKMKA3liq2kj6LfE&index=1\n"
      ]
    },
    {
      "cell_type": "markdown",
      "id": "cd6a2c40",
      "metadata": {
        "papermill": {
          "duration": 0.014293,
          "end_time": "2022-12-12T03:03:02.123562",
          "exception": false,
          "start_time": "2022-12-12T03:03:02.109269",
          "status": "completed"
        },
        "tags": [],
        "id": "cd6a2c40"
      },
      "source": [
        "> Remember that this belong to a NLP Notebook series where I am learning and testing different NLP approachs in this competition. Like NN, Embedding, RNN, Transformers, HuggingFace, etc.\n",
        "\n",
        "> To see the other notebooks visit: https://www.kaggle.com/code/diegomachado/seqclass-nn-embed-rnn-lstm-gru-bert-hf"
      ]
    },
    {
      "cell_type": "markdown",
      "id": "67524708",
      "metadata": {
        "papermill": {
          "duration": 0.013436,
          "end_time": "2022-12-12T03:03:02.150169",
          "exception": false,
          "start_time": "2022-12-12T03:03:02.136733",
          "status": "completed"
        },
        "tags": [],
        "id": "67524708"
      },
      "source": [
        "# Libraries"
      ]
    },
    {
      "cell_type": "code",
      "execution_count": null,
      "id": "67fb2b76",
      "metadata": {
        "execution": {
          "iopub.execute_input": "2022-12-12T03:03:02.178887Z",
          "iopub.status.busy": "2022-12-12T03:03:02.178113Z",
          "iopub.status.idle": "2022-12-12T03:04:15.262862Z",
          "shell.execute_reply": "2022-12-12T03:04:15.261722Z"
        },
        "papermill": {
          "duration": 73.102149,
          "end_time": "2022-12-12T03:04:15.265461",
          "exception": false,
          "start_time": "2022-12-12T03:03:02.163312",
          "status": "completed"
        },
        "tags": [],
        "id": "67fb2b76",
        "outputId": "2f8954ef-9b5f-41e4-a76b-7062fc6d6eb9"
      },
      "outputs": [
        {
          "name": "stdout",
          "output_type": "stream",
          "text": [
            "\u001b[31mERROR: pip's dependency resolver does not currently take into account all the packages that are installed. This behaviour is the source of the following dependency conflicts.\r\n",
            "tfx-bsl 1.9.0 requires tensorflow!=2.0.*,!=2.1.*,!=2.2.*,!=2.3.*,!=2.4.*,!=2.5.*,!=2.6.*,!=2.7.*,!=2.8.*,<3,>=1.15.5, but you have tensorflow 2.8.4 which is incompatible.\r\n",
            "tensorflow-transform 1.9.0 requires tensorflow!=2.0.*,!=2.1.*,!=2.2.*,!=2.3.*,!=2.4.*,!=2.5.*,!=2.6.*,!=2.7.*,!=2.8.*,<2.10,>=1.15.5, but you have tensorflow 2.8.4 which is incompatible.\r\n",
            "tensorflow-serving-api 2.9.0 requires tensorflow<3,>=2.9.0, but you have tensorflow 2.8.4 which is incompatible.\r\n",
            "tensorflow-io 0.21.0 requires tensorflow<2.7.0,>=2.6.0, but you have tensorflow 2.8.4 which is incompatible.\r\n",
            "tensorflow-io 0.21.0 requires tensorflow-io-gcs-filesystem==0.21.0, but you have tensorflow-io-gcs-filesystem 0.28.0 which is incompatible.\r\n",
            "pytorch-lightning 1.7.7 requires tensorboard>=2.9.1, but you have tensorboard 2.8.0 which is incompatible.\u001b[0m\u001b[31m\r\n",
            "\u001b[0m\u001b[33mWARNING: Running pip as the 'root' user can result in broken permissions and conflicting behaviour with the system package manager. It is recommended to use a virtual environment instead: https://pip.pypa.io/warnings/venv\u001b[0m\u001b[33m\r\n",
            "\u001b[0m"
          ]
        }
      ],
      "source": [
        "# A dependency of the preprocessing for BERT inputs\n",
        "!pip install -q -U \"tensorflow-text==2.8.*\""
      ]
    },
    {
      "cell_type": "code",
      "execution_count": null,
      "id": "3a93459f",
      "metadata": {
        "execution": {
          "iopub.execute_input": "2022-12-12T03:04:15.293943Z",
          "iopub.status.busy": "2022-12-12T03:04:15.293610Z",
          "iopub.status.idle": "2022-12-12T03:04:20.473749Z",
          "shell.execute_reply": "2022-12-12T03:04:20.472768Z"
        },
        "papermill": {
          "duration": 5.197393,
          "end_time": "2022-12-12T03:04:20.476219",
          "exception": false,
          "start_time": "2022-12-12T03:04:15.278826",
          "status": "completed"
        },
        "tags": [],
        "id": "3a93459f"
      },
      "outputs": [],
      "source": [
        "import pandas as pd\n",
        "import numpy as np\n",
        "\n",
        "import seaborn as sns\n",
        "import matplotlib.pyplot as plt\n",
        "import gc\n",
        "\n",
        "\n",
        "import tensorflow as tf\n",
        "from tensorflow.keras.layers import TextVectorization, Lambda\n",
        "from tensorflow.keras import layers\n",
        "from tensorflow.keras.utils import plot_model\n",
        "from tensorflow.keras.preprocessing.text import text_to_word_sequence\n",
        "from tensorflow.keras import losses\n",
        "from tensorflow.keras.callbacks import EarlyStopping, TensorBoard, ReduceLROnPlateau\n",
        "import tensorflow_hub as hub\n",
        "import tensorflow_text as text # Bert preprocess uses this \n",
        "from tensorflow.keras.optimizers import Adam\n",
        "\n",
        "import re\n",
        "import nltk\n",
        "from nltk.corpus import stopwords\n",
        "import string\n",
        "from gensim.models import KeyedVectors\n",
        "\n",
        "#nltk.download('stopwords')"
      ]
    },
    {
      "cell_type": "markdown",
      "id": "4def27ea",
      "metadata": {
        "papermill": {
          "duration": 0.02482,
          "end_time": "2022-12-12T03:04:20.525679",
          "exception": false,
          "start_time": "2022-12-12T03:04:20.500859",
          "status": "completed"
        },
        "tags": [],
        "id": "4def27ea"
      },
      "source": [
        "# Data\n",
        "\n",
        "Due to BERT model could consume a lot of ram. This time we will read our data directly from the disc and so feed it to the model!\n",
        "\n",
        "For this we will use Tensorflow datasets function [`make_csv_dataset`](https://www.tensorflow.org/api_docs/python/tf/data/experimental/make_csv_dataset)"
      ]
    },
    {
      "cell_type": "code",
      "execution_count": null,
      "id": "cdef73c1",
      "metadata": {
        "execution": {
          "iopub.execute_input": "2022-12-12T03:04:20.581833Z",
          "iopub.status.busy": "2022-12-12T03:04:20.581101Z",
          "iopub.status.idle": "2022-12-12T03:04:20.588805Z",
          "shell.execute_reply": "2022-12-12T03:04:20.585213Z"
        },
        "papermill": {
          "duration": 0.041742,
          "end_time": "2022-12-12T03:04:20.594217",
          "exception": false,
          "start_time": "2022-12-12T03:04:20.552475",
          "status": "completed"
        },
        "tags": [],
        "id": "cdef73c1"
      },
      "outputs": [],
      "source": [
        "train_file_path = \"../input/df-split/df_split/df_train.csv\"\n",
        "val_file_path = \"../input/df-split/df_split/df_test.csv\""
      ]
    },
    {
      "cell_type": "code",
      "execution_count": null,
      "id": "e2ca86ba",
      "metadata": {
        "execution": {
          "iopub.execute_input": "2022-12-12T03:04:20.640657Z",
          "iopub.status.busy": "2022-12-12T03:04:20.640311Z",
          "iopub.status.idle": "2022-12-12T03:04:22.231165Z",
          "shell.execute_reply": "2022-12-12T03:04:22.230148Z"
        },
        "papermill": {
          "duration": 1.614914,
          "end_time": "2022-12-12T03:04:22.233826",
          "exception": false,
          "start_time": "2022-12-12T03:04:20.618912",
          "status": "completed"
        },
        "tags": [],
        "id": "e2ca86ba"
      },
      "outputs": [],
      "source": [
        "train_ds = tf.data.experimental.make_csv_dataset(\n",
        "    train_file_path,\n",
        "    batch_size=32, # Artificially small to make examples easier to show.\n",
        "    label_name='target',\n",
        "    select_columns=[\"text\",\"target\"],\n",
        "    num_epochs=1, # Not repeat the dataset\n",
        "    ignore_errors=True,)\n",
        "\n",
        "\n",
        "test_ds = tf.data.experimental.make_csv_dataset(\n",
        "    val_file_path,\n",
        "    batch_size=32, # Artificially small to make examples easier to show.\n",
        "    label_name='target',\n",
        "    select_columns=[\"text\",\"target\"],\n",
        "    num_epochs=1, # Not repeat the dataset\n",
        "    ignore_errors=True,)\n",
        "\n"
      ]
    },
    {
      "cell_type": "code",
      "execution_count": null,
      "id": "4538569d",
      "metadata": {
        "execution": {
          "iopub.execute_input": "2022-12-12T03:04:22.262615Z",
          "iopub.status.busy": "2022-12-12T03:04:22.261677Z",
          "iopub.status.idle": "2022-12-12T03:04:22.269240Z",
          "shell.execute_reply": "2022-12-12T03:04:22.268405Z"
        },
        "papermill": {
          "duration": 0.023882,
          "end_time": "2022-12-12T03:04:22.271255",
          "exception": false,
          "start_time": "2022-12-12T03:04:22.247373",
          "status": "completed"
        },
        "tags": [],
        "id": "4538569d"
      },
      "outputs": [],
      "source": [
        "AUTOTUNE = tf.data.AUTOTUNE\n",
        "train_ds = train_ds.cache().prefetch(buffer_size=AUTOTUNE)\n",
        "test_ds = test_ds.cache().prefetch(buffer_size=AUTOTUNE)"
      ]
    },
    {
      "cell_type": "markdown",
      "id": "c7f19728",
      "metadata": {
        "papermill": {
          "duration": 0.012808,
          "end_time": "2022-12-12T03:04:22.297103",
          "exception": false,
          "start_time": "2022-12-12T03:04:22.284295",
          "status": "completed"
        },
        "tags": [],
        "id": "c7f19728"
      },
      "source": [
        "👀 Note that we don't need to batch because we did it when we call make_csv_dataset function"
      ]
    },
    {
      "cell_type": "markdown",
      "id": "3151861b",
      "metadata": {
        "papermill": {
          "duration": 0.012874,
          "end_time": "2022-12-12T03:04:22.322846",
          "exception": false,
          "start_time": "2022-12-12T03:04:22.309972",
          "status": "completed"
        },
        "tags": [],
        "id": "3151861b"
      },
      "source": [
        "# BERT \n",
        "\n",
        "Due to BERT is a pretrained encoder model. It was trained in a specific way with an specific preprocessing (See the references above). So it needs its own pre-processing. Luckily, we could Download both the model and the preprocessing pipeline from [Tensorflow Hub](https://www.tensorflow.org/hub).\n",
        "\n",
        "To see more examples using Tensorflow and BERT visit : https://www.tensorflow.org/text/tutorials/classify_text_with_bert\n",
        "\n",
        "Before, lets explore a little bit what about BERT in Tensorflow Hub"
      ]
    },
    {
      "cell_type": "code",
      "execution_count": null,
      "id": "d81c30c1",
      "metadata": {
        "execution": {
          "iopub.execute_input": "2022-12-12T03:04:22.350830Z",
          "iopub.status.busy": "2022-12-12T03:04:22.350559Z",
          "iopub.status.idle": "2022-12-12T03:04:22.362705Z",
          "shell.execute_reply": "2022-12-12T03:04:22.361539Z"
        },
        "papermill": {
          "duration": 0.029202,
          "end_time": "2022-12-12T03:04:22.365133",
          "exception": false,
          "start_time": "2022-12-12T03:04:22.335931",
          "status": "completed"
        },
        "tags": [],
        "id": "d81c30c1"
      },
      "outputs": [],
      "source": [
        "# Different transformers arquitectures with their preprocessing pipelines in TFHub\n",
        "\n",
        "map_name_to_handle = {\n",
        "    'bert_en_uncased_L-12_H-768_A-12':\n",
        "        'https://tfhub.dev/tensorflow/bert_en_uncased_L-12_H-768_A-12/3',\n",
        "    'bert_en_cased_L-12_H-768_A-12':\n",
        "        'https://tfhub.dev/tensorflow/bert_en_cased_L-12_H-768_A-12/3',\n",
        "    'bert_multi_cased_L-12_H-768_A-12':\n",
        "        'https://tfhub.dev/tensorflow/bert_multi_cased_L-12_H-768_A-12/3',\n",
        "    'small_bert/bert_en_uncased_L-2_H-128_A-2':\n",
        "        'https://tfhub.dev/tensorflow/small_bert/bert_en_uncased_L-2_H-128_A-2/1',\n",
        "    'small_bert/bert_en_uncased_L-2_H-256_A-4':\n",
        "        'https://tfhub.dev/tensorflow/small_bert/bert_en_uncased_L-2_H-256_A-4/1',\n",
        "    'small_bert/bert_en_uncased_L-2_H-512_A-8':\n",
        "        'https://tfhub.dev/tensorflow/small_bert/bert_en_uncased_L-2_H-512_A-8/1',\n",
        "    'small_bert/bert_en_uncased_L-2_H-768_A-12':\n",
        "        'https://tfhub.dev/tensorflow/small_bert/bert_en_uncased_L-2_H-768_A-12/1',\n",
        "    'small_bert/bert_en_uncased_L-4_H-128_A-2':\n",
        "        'https://tfhub.dev/tensorflow/small_bert/bert_en_uncased_L-4_H-128_A-2/1',\n",
        "    'small_bert/bert_en_uncased_L-4_H-256_A-4':\n",
        "        'https://tfhub.dev/tensorflow/small_bert/bert_en_uncased_L-4_H-256_A-4/1',\n",
        "    'small_bert/bert_en_uncased_L-4_H-512_A-8':\n",
        "        'https://tfhub.dev/tensorflow/small_bert/bert_en_uncased_L-4_H-512_A-8/1',\n",
        "    'small_bert/bert_en_uncased_L-4_H-768_A-12':\n",
        "        'https://tfhub.dev/tensorflow/small_bert/bert_en_uncased_L-4_H-768_A-12/1',\n",
        "    'small_bert/bert_en_uncased_L-6_H-128_A-2':\n",
        "        'https://tfhub.dev/tensorflow/small_bert/bert_en_uncased_L-6_H-128_A-2/1',\n",
        "    'small_bert/bert_en_uncased_L-6_H-256_A-4':\n",
        "        'https://tfhub.dev/tensorflow/small_bert/bert_en_uncased_L-6_H-256_A-4/1',\n",
        "    'small_bert/bert_en_uncased_L-6_H-512_A-8':\n",
        "        'https://tfhub.dev/tensorflow/small_bert/bert_en_uncased_L-6_H-512_A-8/1',\n",
        "    'small_bert/bert_en_uncased_L-6_H-768_A-12':\n",
        "        'https://tfhub.dev/tensorflow/small_bert/bert_en_uncased_L-6_H-768_A-12/1',\n",
        "    'small_bert/bert_en_uncased_L-8_H-128_A-2':\n",
        "        'https://tfhub.dev/tensorflow/small_bert/bert_en_uncased_L-8_H-128_A-2/1',\n",
        "    'small_bert/bert_en_uncased_L-8_H-256_A-4':\n",
        "        'https://tfhub.dev/tensorflow/small_bert/bert_en_uncased_L-8_H-256_A-4/1',\n",
        "    'small_bert/bert_en_uncased_L-8_H-512_A-8':\n",
        "        'https://tfhub.dev/tensorflow/small_bert/bert_en_uncased_L-8_H-512_A-8/1',\n",
        "    'small_bert/bert_en_uncased_L-8_H-768_A-12':\n",
        "        'https://tfhub.dev/tensorflow/small_bert/bert_en_uncased_L-8_H-768_A-12/1',\n",
        "    'small_bert/bert_en_uncased_L-10_H-128_A-2':\n",
        "        'https://tfhub.dev/tensorflow/small_bert/bert_en_uncased_L-10_H-128_A-2/1',\n",
        "    'small_bert/bert_en_uncased_L-10_H-256_A-4':\n",
        "        'https://tfhub.dev/tensorflow/small_bert/bert_en_uncased_L-10_H-256_A-4/1',\n",
        "    'small_bert/bert_en_uncased_L-10_H-512_A-8':\n",
        "        'https://tfhub.dev/tensorflow/small_bert/bert_en_uncased_L-10_H-512_A-8/1',\n",
        "    'small_bert/bert_en_uncased_L-10_H-768_A-12':\n",
        "        'https://tfhub.dev/tensorflow/small_bert/bert_en_uncased_L-10_H-768_A-12/1',\n",
        "    'small_bert/bert_en_uncased_L-12_H-128_A-2':\n",
        "        'https://tfhub.dev/tensorflow/small_bert/bert_en_uncased_L-12_H-128_A-2/1',\n",
        "    'small_bert/bert_en_uncased_L-12_H-256_A-4':\n",
        "        'https://tfhub.dev/tensorflow/small_bert/bert_en_uncased_L-12_H-256_A-4/1',\n",
        "    'small_bert/bert_en_uncased_L-12_H-512_A-8':\n",
        "        'https://tfhub.dev/tensorflow/small_bert/bert_en_uncased_L-12_H-512_A-8/1',\n",
        "    'small_bert/bert_en_uncased_L-12_H-768_A-12':\n",
        "        'https://tfhub.dev/tensorflow/small_bert/bert_en_uncased_L-12_H-768_A-12/1',\n",
        "    'albert_en_base':\n",
        "        'https://tfhub.dev/tensorflow/albert_en_base/2',\n",
        "    'electra_small':\n",
        "        'https://tfhub.dev/google/electra_small/2',\n",
        "    'electra_base':\n",
        "        'https://tfhub.dev/google/electra_base/2',\n",
        "    'experts_pubmed':\n",
        "        'https://tfhub.dev/google/experts/bert/pubmed/2',\n",
        "    'experts_wiki_books':\n",
        "        'https://tfhub.dev/google/experts/bert/wiki_books/2',\n",
        "    'talking-heads_base':\n",
        "        'https://tfhub.dev/tensorflow/talkheads_ggelu_bert_en_base/1',\n",
        "}\n",
        "\n",
        "map_model_to_preprocess = {\n",
        "    'bert_en_uncased_L-12_H-768_A-12':\n",
        "        'https://tfhub.dev/tensorflow/bert_en_uncased_preprocess/3',\n",
        "    'bert_en_cased_L-12_H-768_A-12':\n",
        "        'https://tfhub.dev/tensorflow/bert_en_cased_preprocess/3',\n",
        "    'small_bert/bert_en_uncased_L-2_H-128_A-2':\n",
        "        'https://tfhub.dev/tensorflow/bert_en_uncased_preprocess/3',\n",
        "    'small_bert/bert_en_uncased_L-2_H-256_A-4':\n",
        "        'https://tfhub.dev/tensorflow/bert_en_uncased_preprocess/3',\n",
        "    'small_bert/bert_en_uncased_L-2_H-512_A-8':\n",
        "        'https://tfhub.dev/tensorflow/bert_en_uncased_preprocess/3',\n",
        "    'small_bert/bert_en_uncased_L-2_H-768_A-12':\n",
        "        'https://tfhub.dev/tensorflow/bert_en_uncased_preprocess/3',\n",
        "    'small_bert/bert_en_uncased_L-4_H-128_A-2':\n",
        "        'https://tfhub.dev/tensorflow/bert_en_uncased_preprocess/3',\n",
        "    'small_bert/bert_en_uncased_L-4_H-256_A-4':\n",
        "        'https://tfhub.dev/tensorflow/bert_en_uncased_preprocess/3',\n",
        "    'small_bert/bert_en_uncased_L-4_H-512_A-8':\n",
        "        'https://tfhub.dev/tensorflow/bert_en_uncased_preprocess/3',\n",
        "    'small_bert/bert_en_uncased_L-4_H-768_A-12':\n",
        "        'https://tfhub.dev/tensorflow/bert_en_uncased_preprocess/3',\n",
        "    'small_bert/bert_en_uncased_L-6_H-128_A-2':\n",
        "        'https://tfhub.dev/tensorflow/bert_en_uncased_preprocess/3',\n",
        "    'small_bert/bert_en_uncased_L-6_H-256_A-4':\n",
        "        'https://tfhub.dev/tensorflow/bert_en_uncased_preprocess/3',\n",
        "    'small_bert/bert_en_uncased_L-6_H-512_A-8':\n",
        "        'https://tfhub.dev/tensorflow/bert_en_uncased_preprocess/3',\n",
        "    'small_bert/bert_en_uncased_L-6_H-768_A-12':\n",
        "        'https://tfhub.dev/tensorflow/bert_en_uncased_preprocess/3',\n",
        "    'small_bert/bert_en_uncased_L-8_H-128_A-2':\n",
        "        'https://tfhub.dev/tensorflow/bert_en_uncased_preprocess/3',\n",
        "    'small_bert/bert_en_uncased_L-8_H-256_A-4':\n",
        "        'https://tfhub.dev/tensorflow/bert_en_uncased_preprocess/3',\n",
        "    'small_bert/bert_en_uncased_L-8_H-512_A-8':\n",
        "        'https://tfhub.dev/tensorflow/bert_en_uncased_preprocess/3',\n",
        "    'small_bert/bert_en_uncased_L-8_H-768_A-12':\n",
        "        'https://tfhub.dev/tensorflow/bert_en_uncased_preprocess/3',\n",
        "    'small_bert/bert_en_uncased_L-10_H-128_A-2':\n",
        "        'https://tfhub.dev/tensorflow/bert_en_uncased_preprocess/3',\n",
        "    'small_bert/bert_en_uncased_L-10_H-256_A-4':\n",
        "        'https://tfhub.dev/tensorflow/bert_en_uncased_preprocess/3',\n",
        "    'small_bert/bert_en_uncased_L-10_H-512_A-8':\n",
        "        'https://tfhub.dev/tensorflow/bert_en_uncased_preprocess/3',\n",
        "    'small_bert/bert_en_uncased_L-10_H-768_A-12':\n",
        "        'https://tfhub.dev/tensorflow/bert_en_uncased_preprocess/3',\n",
        "    'small_bert/bert_en_uncased_L-12_H-128_A-2':\n",
        "        'https://tfhub.dev/tensorflow/bert_en_uncased_preprocess/3',\n",
        "    'small_bert/bert_en_uncased_L-12_H-256_A-4':\n",
        "        'https://tfhub.dev/tensorflow/bert_en_uncased_preprocess/3',\n",
        "    'small_bert/bert_en_uncased_L-12_H-512_A-8':\n",
        "        'https://tfhub.dev/tensorflow/bert_en_uncased_preprocess/3',\n",
        "    'small_bert/bert_en_uncased_L-12_H-768_A-12':\n",
        "        'https://tfhub.dev/tensorflow/bert_en_uncased_preprocess/3',\n",
        "    'bert_multi_cased_L-12_H-768_A-12':\n",
        "        'https://tfhub.dev/tensorflow/bert_multi_cased_preprocess/3',\n",
        "    'albert_en_base':\n",
        "        'https://tfhub.dev/tensorflow/albert_en_preprocess/3',\n",
        "    'electra_small':\n",
        "        'https://tfhub.dev/tensorflow/bert_en_uncased_preprocess/3',\n",
        "    'electra_base':\n",
        "        'https://tfhub.dev/tensorflow/bert_en_uncased_preprocess/3',\n",
        "    'experts_pubmed':\n",
        "        'https://tfhub.dev/tensorflow/bert_en_uncased_preprocess/3',\n",
        "    'experts_wiki_books':\n",
        "        'https://tfhub.dev/tensorflow/bert_en_uncased_preprocess/3',\n",
        "    'talking-heads_base':\n",
        "        'https://tfhub.dev/tensorflow/bert_en_uncased_preprocess/3',\n",
        "}\n"
      ]
    },
    {
      "cell_type": "code",
      "execution_count": null,
      "id": "dc5d9b75",
      "metadata": {
        "execution": {
          "iopub.execute_input": "2022-12-12T03:04:22.392129Z",
          "iopub.status.busy": "2022-12-12T03:04:22.391794Z",
          "iopub.status.idle": "2022-12-12T03:04:22.397060Z",
          "shell.execute_reply": "2022-12-12T03:04:22.396171Z"
        },
        "papermill": {
          "duration": 0.021876,
          "end_time": "2022-12-12T03:04:22.399849",
          "exception": false,
          "start_time": "2022-12-12T03:04:22.377973",
          "status": "completed"
        },
        "tags": [],
        "id": "dc5d9b75",
        "outputId": "0fac091e-3ff4-4e54-cb65-b4e389217756"
      },
      "outputs": [
        {
          "name": "stdout",
          "output_type": "stream",
          "text": [
            "BERT model selected           : https://tfhub.dev/tensorflow/bert_en_uncased_L-12_H-768_A-12/3\n",
            "Preprocess model auto-selected: https://tfhub.dev/tensorflow/bert_en_uncased_preprocess/3\n"
          ]
        }
      ],
      "source": [
        "# Choose one model\n",
        "bert_model_name = 'bert_en_uncased_L-12_H-768_A-12'\n",
        "\n",
        "tfhub_handle_encoder = map_name_to_handle[bert_model_name] # Encoder\n",
        "tfhub_handle_preprocess = map_model_to_preprocess[bert_model_name] # Preprocess\n",
        "\n",
        "print(f'BERT model selected           : {tfhub_handle_encoder}')\n",
        "print(f'Preprocess model auto-selected: {tfhub_handle_preprocess}')"
      ]
    },
    {
      "cell_type": "code",
      "execution_count": null,
      "id": "4d9b6062",
      "metadata": {
        "execution": {
          "iopub.execute_input": "2022-12-12T03:04:22.429586Z",
          "iopub.status.busy": "2022-12-12T03:04:22.428175Z",
          "iopub.status.idle": "2022-12-12T03:04:24.426520Z",
          "shell.execute_reply": "2022-12-12T03:04:24.425412Z"
        },
        "papermill": {
          "duration": 2.015203,
          "end_time": "2022-12-12T03:04:24.429521",
          "exception": false,
          "start_time": "2022-12-12T03:04:22.414318",
          "status": "completed"
        },
        "tags": [],
        "id": "4d9b6062"
      },
      "outputs": [],
      "source": [
        "# Download preprocess from TFHub\n",
        "bert_preprocess_model = hub.KerasLayer(tfhub_handle_preprocess)"
      ]
    },
    {
      "cell_type": "code",
      "execution_count": null,
      "id": "2d61f925",
      "metadata": {
        "execution": {
          "iopub.execute_input": "2022-12-12T03:04:24.462924Z",
          "iopub.status.busy": "2022-12-12T03:04:24.461811Z",
          "iopub.status.idle": "2022-12-12T03:04:24.916976Z",
          "shell.execute_reply": "2022-12-12T03:04:24.915865Z"
        },
        "papermill": {
          "duration": 0.473874,
          "end_time": "2022-12-12T03:04:24.919346",
          "exception": false,
          "start_time": "2022-12-12T03:04:24.445472",
          "status": "completed"
        },
        "tags": [],
        "id": "2d61f925",
        "outputId": "2b7d4419-8cf9-417f-9196-8e518887d82f"
      },
      "outputs": [
        {
          "data": {
            "text/plain": [
              "0"
            ]
          },
          "execution_count": 9,
          "metadata": {},
          "output_type": "execute_result"
        }
      ],
      "source": [
        "# Lets explore preprocessing one train dataset sample \n",
        "train_df = pd.read_csv(\"/kaggle/input/nlp-getting-started/train.csv\")\n",
        "sample = train_df.sample(1).text\n",
        "processed_sample = bert_preprocess_model(sample)\n",
        "del train_df\n",
        "gc.collect()"
      ]
    },
    {
      "cell_type": "code",
      "execution_count": null,
      "id": "083367ec",
      "metadata": {
        "execution": {
          "iopub.execute_input": "2022-12-12T03:04:24.952312Z",
          "iopub.status.busy": "2022-12-12T03:04:24.951935Z",
          "iopub.status.idle": "2022-12-12T03:04:24.961798Z",
          "shell.execute_reply": "2022-12-12T03:04:24.960716Z"
        },
        "papermill": {
          "duration": 0.02996,
          "end_time": "2022-12-12T03:04:24.965253",
          "exception": false,
          "start_time": "2022-12-12T03:04:24.935293",
          "status": "completed"
        },
        "tags": [],
        "id": "083367ec",
        "outputId": "c4e9633e-b49f-4d7c-97fb-6ada8e88b89a"
      },
      "outputs": [
        {
          "name": "stdout",
          "output_type": "stream",
          "text": [
            "1345    Burning buildings? Media outrage? http://t.co/...\n",
            "Name: text, dtype: object\n",
            "=================\n",
            "{'input_type_ids': <tf.Tensor: shape=(1, 128), dtype=int32, numpy=\n",
            "array([[0, 0, 0, 0, 0, 0, 0, 0, 0, 0, 0, 0, 0, 0, 0, 0, 0, 0, 0, 0, 0, 0,\n",
            "        0, 0, 0, 0, 0, 0, 0, 0, 0, 0, 0, 0, 0, 0, 0, 0, 0, 0, 0, 0, 0, 0,\n",
            "        0, 0, 0, 0, 0, 0, 0, 0, 0, 0, 0, 0, 0, 0, 0, 0, 0, 0, 0, 0, 0, 0,\n",
            "        0, 0, 0, 0, 0, 0, 0, 0, 0, 0, 0, 0, 0, 0, 0, 0, 0, 0, 0, 0, 0, 0,\n",
            "        0, 0, 0, 0, 0, 0, 0, 0, 0, 0, 0, 0, 0, 0, 0, 0, 0, 0, 0, 0, 0, 0,\n",
            "        0, 0, 0, 0, 0, 0, 0, 0, 0, 0, 0, 0, 0, 0, 0, 0, 0, 0]],\n",
            "      dtype=int32)>, 'input_word_ids': <tf.Tensor: shape=(1, 128), dtype=int32, numpy=\n",
            "array([[  101,  5255,  3121,  1029,  2865, 19006,  1029,  8299,  1024,\n",
            "         1013,  1013,  1056,  1012,  2522,  1013, 13569,  2595,  2480,\n",
            "         2078,  2615,  2487,  6038,   102,     0,     0,     0,     0,\n",
            "            0,     0,     0,     0,     0,     0,     0,     0,     0,\n",
            "            0,     0,     0,     0,     0,     0,     0,     0,     0,\n",
            "            0,     0,     0,     0,     0,     0,     0,     0,     0,\n",
            "            0,     0,     0,     0,     0,     0,     0,     0,     0,\n",
            "            0,     0,     0,     0,     0,     0,     0,     0,     0,\n",
            "            0,     0,     0,     0,     0,     0,     0,     0,     0,\n",
            "            0,     0,     0,     0,     0,     0,     0,     0,     0,\n",
            "            0,     0,     0,     0,     0,     0,     0,     0,     0,\n",
            "            0,     0,     0,     0,     0,     0,     0,     0,     0,\n",
            "            0,     0,     0,     0,     0,     0,     0,     0,     0,\n",
            "            0,     0,     0,     0,     0,     0,     0,     0,     0,\n",
            "            0,     0]], dtype=int32)>, 'input_mask': <tf.Tensor: shape=(1, 128), dtype=int32, numpy=\n",
            "array([[1, 1, 1, 1, 1, 1, 1, 1, 1, 1, 1, 1, 1, 1, 1, 1, 1, 1, 1, 1, 1, 1,\n",
            "        1, 0, 0, 0, 0, 0, 0, 0, 0, 0, 0, 0, 0, 0, 0, 0, 0, 0, 0, 0, 0, 0,\n",
            "        0, 0, 0, 0, 0, 0, 0, 0, 0, 0, 0, 0, 0, 0, 0, 0, 0, 0, 0, 0, 0, 0,\n",
            "        0, 0, 0, 0, 0, 0, 0, 0, 0, 0, 0, 0, 0, 0, 0, 0, 0, 0, 0, 0, 0, 0,\n",
            "        0, 0, 0, 0, 0, 0, 0, 0, 0, 0, 0, 0, 0, 0, 0, 0, 0, 0, 0, 0, 0, 0,\n",
            "        0, 0, 0, 0, 0, 0, 0, 0, 0, 0, 0, 0, 0, 0, 0, 0, 0, 0]],\n",
            "      dtype=int32)>}\n"
          ]
        }
      ],
      "source": [
        "print(sample)\n",
        "print(\"=================\")\n",
        "print(processed_sample)"
      ]
    },
    {
      "cell_type": "markdown",
      "id": "ca5a0fab",
      "metadata": {
        "papermill": {
          "duration": 0.015267,
          "end_time": "2022-12-12T03:04:24.995959",
          "exception": false,
          "start_time": "2022-12-12T03:04:24.980692",
          "status": "completed"
        },
        "tags": [],
        "id": "ca5a0fab"
      },
      "source": [
        "Look that our preprocess pipeline outputs 3 tensors:"
      ]
    },
    {
      "cell_type": "code",
      "execution_count": null,
      "id": "9400773f",
      "metadata": {
        "execution": {
          "iopub.execute_input": "2022-12-12T03:04:25.059115Z",
          "iopub.status.busy": "2022-12-12T03:04:25.058235Z",
          "iopub.status.idle": "2022-12-12T03:04:25.072590Z",
          "shell.execute_reply": "2022-12-12T03:04:25.071233Z"
        },
        "papermill": {
          "duration": 0.053746,
          "end_time": "2022-12-12T03:04:25.078505",
          "exception": false,
          "start_time": "2022-12-12T03:04:25.024759",
          "status": "completed"
        },
        "tags": [],
        "id": "9400773f",
        "outputId": "9840a701-ed82-484d-98e9-2702d856fffe"
      },
      "outputs": [
        {
          "data": {
            "text/plain": [
              "dict_keys(['input_type_ids', 'input_word_ids', 'input_mask'])"
            ]
          },
          "execution_count": 11,
          "metadata": {},
          "output_type": "execute_result"
        }
      ],
      "source": [
        "processed_sample.keys()"
      ]
    },
    {
      "cell_type": "markdown",
      "id": "3fc339b2",
      "metadata": {
        "papermill": {
          "duration": 0.022289,
          "end_time": "2022-12-12T03:04:25.137886",
          "exception": false,
          "start_time": "2022-12-12T03:04:25.115597",
          "status": "completed"
        },
        "tags": [],
        "id": "3fc339b2"
      },
      "source": [
        "**Input Ids:** Maybe the most important is the integer encoding (from token to id)"
      ]
    },
    {
      "cell_type": "code",
      "execution_count": null,
      "id": "5ac2e54f",
      "metadata": {
        "execution": {
          "iopub.execute_input": "2022-12-12T03:04:25.179402Z",
          "iopub.status.busy": "2022-12-12T03:04:25.178866Z",
          "iopub.status.idle": "2022-12-12T03:04:25.189362Z",
          "shell.execute_reply": "2022-12-12T03:04:25.188472Z"
        },
        "papermill": {
          "duration": 0.034515,
          "end_time": "2022-12-12T03:04:25.192373",
          "exception": false,
          "start_time": "2022-12-12T03:04:25.157858",
          "status": "completed"
        },
        "tags": [],
        "id": "5ac2e54f",
        "outputId": "939e6b73-7a53-4c7c-9652-73799b21b0c1"
      },
      "outputs": [
        {
          "data": {
            "text/plain": [
              "<tf.Tensor: shape=(1, 128), dtype=int32, numpy=\n",
              "array([[  101,  5255,  3121,  1029,  2865, 19006,  1029,  8299,  1024,\n",
              "         1013,  1013,  1056,  1012,  2522,  1013, 13569,  2595,  2480,\n",
              "         2078,  2615,  2487,  6038,   102,     0,     0,     0,     0,\n",
              "            0,     0,     0,     0,     0,     0,     0,     0,     0,\n",
              "            0,     0,     0,     0,     0,     0,     0,     0,     0,\n",
              "            0,     0,     0,     0,     0,     0,     0,     0,     0,\n",
              "            0,     0,     0,     0,     0,     0,     0,     0,     0,\n",
              "            0,     0,     0,     0,     0,     0,     0,     0,     0,\n",
              "            0,     0,     0,     0,     0,     0,     0,     0,     0,\n",
              "            0,     0,     0,     0,     0,     0,     0,     0,     0,\n",
              "            0,     0,     0,     0,     0,     0,     0,     0,     0,\n",
              "            0,     0,     0,     0,     0,     0,     0,     0,     0,\n",
              "            0,     0,     0,     0,     0,     0,     0,     0,     0,\n",
              "            0,     0,     0,     0,     0,     0,     0,     0,     0,\n",
              "            0,     0]], dtype=int32)>"
            ]
          },
          "execution_count": 12,
          "metadata": {},
          "output_type": "execute_result"
        }
      ],
      "source": [
        "# Integer Embedding by BERT vocabulary\n",
        "processed_sample[\"input_word_ids\"]\n",
        "# note:\n",
        "# 101 : CLS\n",
        "# 102: SEP"
      ]
    },
    {
      "cell_type": "markdown",
      "id": "40907622",
      "metadata": {
        "papermill": {
          "duration": 0.018282,
          "end_time": "2022-12-12T03:04:25.230703",
          "exception": false,
          "start_time": "2022-12-12T03:04:25.212421",
          "status": "completed"
        },
        "tags": [],
        "id": "40907622"
      },
      "source": [
        "**Mask**: To tell bert whats inputs take care of.\n",
        "This is usefull to tell BERT that we should not take care of padding tokens\n"
      ]
    },
    {
      "cell_type": "code",
      "execution_count": null,
      "id": "83b1a29e",
      "metadata": {
        "execution": {
          "iopub.execute_input": "2022-12-12T03:04:25.271252Z",
          "iopub.status.busy": "2022-12-12T03:04:25.270783Z",
          "iopub.status.idle": "2022-12-12T03:04:25.279981Z",
          "shell.execute_reply": "2022-12-12T03:04:25.279166Z"
        },
        "papermill": {
          "duration": 0.033495,
          "end_time": "2022-12-12T03:04:25.283750",
          "exception": false,
          "start_time": "2022-12-12T03:04:25.250255",
          "status": "completed"
        },
        "tags": [],
        "id": "83b1a29e",
        "outputId": "fa9f3a3a-54db-47bc-dba3-131d89a6b8f6"
      },
      "outputs": [
        {
          "data": {
            "text/plain": [
              "<tf.Tensor: shape=(1, 128), dtype=int32, numpy=\n",
              "array([[1, 1, 1, 1, 1, 1, 1, 1, 1, 1, 1, 1, 1, 1, 1, 1, 1, 1, 1, 1, 1, 1,\n",
              "        1, 0, 0, 0, 0, 0, 0, 0, 0, 0, 0, 0, 0, 0, 0, 0, 0, 0, 0, 0, 0, 0,\n",
              "        0, 0, 0, 0, 0, 0, 0, 0, 0, 0, 0, 0, 0, 0, 0, 0, 0, 0, 0, 0, 0, 0,\n",
              "        0, 0, 0, 0, 0, 0, 0, 0, 0, 0, 0, 0, 0, 0, 0, 0, 0, 0, 0, 0, 0, 0,\n",
              "        0, 0, 0, 0, 0, 0, 0, 0, 0, 0, 0, 0, 0, 0, 0, 0, 0, 0, 0, 0, 0, 0,\n",
              "        0, 0, 0, 0, 0, 0, 0, 0, 0, 0, 0, 0, 0, 0, 0, 0, 0, 0]],\n",
              "      dtype=int32)>"
            ]
          },
          "execution_count": 13,
          "metadata": {},
          "output_type": "execute_result"
        }
      ],
      "source": [
        "processed_sample[\"input_mask\"]"
      ]
    },
    {
      "cell_type": "markdown",
      "id": "fef5e70f",
      "metadata": {
        "papermill": {
          "duration": 0.019586,
          "end_time": "2022-12-12T03:04:25.323563",
          "exception": false,
          "start_time": "2022-12-12T03:04:25.303977",
          "status": "completed"
        },
        "tags": [],
        "id": "fef5e70f"
      },
      "source": [
        "We will not use input_type_ids. Though this is necessary because one of the task which BERT was trained was predict next sentence (For this the input was two sentences) so input_type_ids helps BERT to distinguis between sentence. As we now only have one sentence, it is the same to each token. Please see the references to understand more about it."
      ]
    },
    {
      "cell_type": "markdown",
      "id": "ccc002e3",
      "metadata": {
        "papermill": {
          "duration": 0.020317,
          "end_time": "2022-12-12T03:04:25.364774",
          "exception": false,
          "start_time": "2022-12-12T03:04:25.344457",
          "status": "completed"
        },
        "tags": [],
        "id": "ccc002e3"
      },
      "source": [
        "**Now we will do one pass trough BERT**"
      ]
    },
    {
      "cell_type": "code",
      "execution_count": null,
      "id": "a284b1ca",
      "metadata": {
        "execution": {
          "iopub.execute_input": "2022-12-12T03:04:25.407922Z",
          "iopub.status.busy": "2022-12-12T03:04:25.407454Z",
          "iopub.status.idle": "2022-12-12T03:04:44.119407Z",
          "shell.execute_reply": "2022-12-12T03:04:44.118376Z"
        },
        "papermill": {
          "duration": 18.736521,
          "end_time": "2022-12-12T03:04:44.121970",
          "exception": false,
          "start_time": "2022-12-12T03:04:25.385449",
          "status": "completed"
        },
        "tags": [],
        "id": "a284b1ca"
      },
      "outputs": [],
      "source": [
        "# One pass trough bert \n",
        "bert_layer = hub.KerasLayer(tfhub_handle_encoder)\n",
        "sample_result = bert_layer(processed_sample)"
      ]
    },
    {
      "cell_type": "code",
      "execution_count": null,
      "id": "3d72da53",
      "metadata": {
        "execution": {
          "iopub.execute_input": "2022-12-12T03:04:44.152595Z",
          "iopub.status.busy": "2022-12-12T03:04:44.151950Z",
          "iopub.status.idle": "2022-12-12T03:04:44.157966Z",
          "shell.execute_reply": "2022-12-12T03:04:44.157086Z"
        },
        "papermill": {
          "duration": 0.022758,
          "end_time": "2022-12-12T03:04:44.159837",
          "exception": false,
          "start_time": "2022-12-12T03:04:44.137079",
          "status": "completed"
        },
        "tags": [],
        "id": "3d72da53",
        "outputId": "45194f18-e81b-4258-bf0c-f73090930a30"
      },
      "outputs": [
        {
          "data": {
            "text/plain": [
              "dict_keys(['encoder_outputs', 'default', 'sequence_output', 'pooled_output'])"
            ]
          },
          "execution_count": 15,
          "metadata": {},
          "output_type": "execute_result"
        }
      ],
      "source": [
        "sample_result.keys()"
      ]
    },
    {
      "cell_type": "markdown",
      "id": "7af6238e",
      "metadata": {
        "papermill": {
          "duration": 0.013897,
          "end_time": "2022-12-12T03:04:44.187800",
          "exception": false,
          "start_time": "2022-12-12T03:04:44.173903",
          "status": "completed"
        },
        "tags": [],
        "id": "7af6238e"
      },
      "source": [
        "We note that there is some outputs. Here is a summary of them:\n",
        "\n",
        "- `pooled_output` represents each input sequence as a whole. The shape is [batch_size, H]. You can think of this as an embedding for the entire twitt.\n",
        "- `sequence_output` represents each input token in the context. The shape is [batch_size, seq_length, H]. You can think of this as a contextual embedding for every token in the twitt.\n",
        "- `encoder_outputs` are the intermediate activations of the L Transformer blocks. outputs[\"encoder_outputs\"][i] is a Tensor of shape [batch_size, seq_length, 1024] with the outputs of the i-th Transformer block, for 0 <= i < L. The last value of the list is equal to sequence_output."
      ]
    },
    {
      "cell_type": "markdown",
      "id": "33c748d0",
      "metadata": {
        "papermill": {
          "duration": 0.014114,
          "end_time": "2022-12-12T03:04:44.215542",
          "exception": false,
          "start_time": "2022-12-12T03:04:44.201428",
          "status": "completed"
        },
        "tags": [],
        "id": "33c748d0"
      },
      "source": [
        "# Model\n",
        "\n",
        "Now we will apply a functional arquitecture model (Instead of sequential as the preovious notebooks)"
      ]
    },
    {
      "cell_type": "code",
      "execution_count": null,
      "id": "8dc89bfd",
      "metadata": {
        "execution": {
          "iopub.execute_input": "2022-12-12T03:04:44.244773Z",
          "iopub.status.busy": "2022-12-12T03:04:44.243986Z",
          "iopub.status.idle": "2022-12-12T03:04:58.854012Z",
          "shell.execute_reply": "2022-12-12T03:04:58.853074Z"
        },
        "papermill": {
          "duration": 14.627196,
          "end_time": "2022-12-12T03:04:58.856646",
          "exception": false,
          "start_time": "2022-12-12T03:04:44.229450",
          "status": "completed"
        },
        "tags": [],
        "id": "8dc89bfd"
      },
      "outputs": [],
      "source": [
        "def bert_model():\n",
        "    text_input = layers.Input(shape=(), dtype=tf.string, name = \"text\")\n",
        "    preprocessing_layer = hub.KerasLayer(tfhub_handle_preprocess, name = 'preprocessing')\n",
        "    encoder_inputs = preprocessing_layer(text_input)\n",
        "    encoder_layer = hub.KerasLayer(tfhub_handle_encoder, trainable=True, name='BERT_encoder')\n",
        "    bert_outputs = encoder_layer(encoder_inputs)\n",
        "    net = bert_outputs['pooled_output'] # We will use the pooled_output\n",
        "    net = tf.keras.layers.Dropout(0.1)(net)\n",
        "    #net = tf.keras.layers.Dense(16, activation=\"relu\", name='dense')(net)\n",
        "    #net = tf.keras.layers.Dropout(0.3)(net)\n",
        "    net = tf.keras.layers.Dense(1, activation=\"sigmoid\", name='output')(net)\n",
        "    return tf.keras.Model(text_input, net)\n",
        "\n",
        "model = bert_model()"
      ]
    },
    {
      "cell_type": "code",
      "execution_count": null,
      "id": "24347695",
      "metadata": {
        "execution": {
          "iopub.execute_input": "2022-12-12T03:04:58.887513Z",
          "iopub.status.busy": "2022-12-12T03:04:58.885829Z",
          "iopub.status.idle": "2022-12-12T03:04:58.932332Z",
          "shell.execute_reply": "2022-12-12T03:04:58.931581Z"
        },
        "papermill": {
          "duration": 0.086714,
          "end_time": "2022-12-12T03:04:58.957517",
          "exception": false,
          "start_time": "2022-12-12T03:04:58.870803",
          "status": "completed"
        },
        "tags": [],
        "id": "24347695",
        "outputId": "183f0311-25fc-4d3e-ad36-6f5be47b514a"
      },
      "outputs": [
        {
          "name": "stdout",
          "output_type": "stream",
          "text": [
            "Model: \"model\"\n",
            "__________________________________________________________________________________________________\n",
            " Layer (type)                   Output Shape         Param #     Connected to                     \n",
            "==================================================================================================\n",
            " text (InputLayer)              [(None,)]            0           []                               \n",
            "                                                                                                  \n",
            " preprocessing (KerasLayer)     {'input_word_ids':   0           ['text[0][0]']                   \n",
            "                                (None, 128),                                                      \n",
            "                                 'input_type_ids':                                                \n",
            "                                (None, 128),                                                      \n",
            "                                 'input_mask': (Non                                               \n",
            "                                e, 128)}                                                          \n",
            "                                                                                                  \n",
            " BERT_encoder (KerasLayer)      {'encoder_outputs':  109482241   ['preprocessing[0][0]',          \n",
            "                                 [(None, 128, 768),               'preprocessing[0][1]',          \n",
            "                                 (None, 128, 768),                'preprocessing[0][2]']          \n",
            "                                 (None, 128, 768),                                                \n",
            "                                 (None, 128, 768),                                                \n",
            "                                 (None, 128, 768),                                                \n",
            "                                 (None, 128, 768),                                                \n",
            "                                 (None, 128, 768),                                                \n",
            "                                 (None, 128, 768),                                                \n",
            "                                 (None, 128, 768),                                                \n",
            "                                 (None, 128, 768),                                                \n",
            "                                 (None, 128, 768),                                                \n",
            "                                 (None, 128, 768)],                                               \n",
            "                                 'sequence_output':                                               \n",
            "                                 (None, 128, 768),                                                \n",
            "                                 'default': (None,                                                \n",
            "                                768),                                                             \n",
            "                                 'pooled_output': (                                               \n",
            "                                None, 768)}                                                       \n",
            "                                                                                                  \n",
            " dropout (Dropout)              (None, 768)          0           ['BERT_encoder[0][13]']          \n",
            "                                                                                                  \n",
            " output (Dense)                 (None, 1)            769         ['dropout[0][0]']                \n",
            "                                                                                                  \n",
            "==================================================================================================\n",
            "Total params: 109,483,010\n",
            "Trainable params: 109,483,009\n",
            "Non-trainable params: 1\n",
            "__________________________________________________________________________________________________\n"
          ]
        }
      ],
      "source": [
        "model.summary()"
      ]
    },
    {
      "cell_type": "code",
      "execution_count": null,
      "id": "376e4a90",
      "metadata": {
        "execution": {
          "iopub.execute_input": "2022-12-12T03:04:58.990730Z",
          "iopub.status.busy": "2022-12-12T03:04:58.990437Z",
          "iopub.status.idle": "2022-12-12T03:05:00.038037Z",
          "shell.execute_reply": "2022-12-12T03:05:00.036963Z"
        },
        "papermill": {
          "duration": 1.06718,
          "end_time": "2022-12-12T03:05:00.040614",
          "exception": false,
          "start_time": "2022-12-12T03:04:58.973434",
          "status": "completed"
        },
        "tags": [],
        "id": "376e4a90",
        "outputId": "823cd416-c455-443a-8c54-2f8e96474eeb"
      },
      "outputs": [
        {
          "data": {
            "image/png": "[encoded data removed]",
            "text/plain": [
              "<IPython.core.display.Image object>"
            ]
          },
          "execution_count": 18,
          "metadata": {},
          "output_type": "execute_result"
        }
      ],
      "source": [
        "plot_model(model)"
      ]
    },
    {
      "cell_type": "code",
      "execution_count": null,
      "id": "6a2746b9",
      "metadata": {
        "execution": {
          "iopub.execute_input": "2022-12-12T03:05:00.077263Z",
          "iopub.status.busy": "2022-12-12T03:05:00.074921Z",
          "iopub.status.idle": "2022-12-12T03:05:00.096603Z",
          "shell.execute_reply": "2022-12-12T03:05:00.095314Z"
        },
        "papermill": {
          "duration": 0.040973,
          "end_time": "2022-12-12T03:05:00.098527",
          "exception": false,
          "start_time": "2022-12-12T03:05:00.057554",
          "status": "completed"
        },
        "tags": [],
        "id": "6a2746b9"
      },
      "outputs": [],
      "source": [
        "model.compile(loss='binary_crossentropy',\n",
        "              optimizer=Adam(learning_rate=1e-5),\n",
        "              metrics=tf.metrics.BinaryAccuracy(threshold=0.5))"
      ]
    },
    {
      "cell_type": "markdown",
      "id": "f463b051",
      "metadata": {
        "papermill": {
          "duration": 0.016314,
          "end_time": "2022-12-12T03:05:00.131105",
          "exception": false,
          "start_time": "2022-12-12T03:05:00.114791",
          "status": "completed"
        },
        "tags": [],
        "id": "f463b051"
      },
      "source": [
        "🚀🚀🚀🚀 **To be faster, we will use GPU in this notebook!**"
      ]
    },
    {
      "cell_type": "code",
      "execution_count": null,
      "id": "833f15f9",
      "metadata": {
        "execution": {
          "iopub.execute_input": "2022-12-12T03:05:00.166294Z",
          "iopub.status.busy": "2022-12-12T03:05:00.164507Z",
          "iopub.status.idle": "2022-12-12T03:18:39.410246Z",
          "shell.execute_reply": "2022-12-12T03:18:39.408534Z"
        },
        "papermill": {
          "duration": 819.265273,
          "end_time": "2022-12-12T03:18:39.412706",
          "exception": false,
          "start_time": "2022-12-12T03:05:00.147433",
          "status": "completed"
        },
        "tags": [],
        "id": "833f15f9",
        "outputId": "af86085f-653c-49a7-ddc8-9972020acd66"
      },
      "outputs": [
        {
          "name": "stdout",
          "output_type": "stream",
          "text": [
            "Epoch 1/100\n",
            "191/191 [==============================] - 135s 627ms/step - loss: 0.4655 - binary_accuracy: 0.7924 - val_loss: 0.4008 - val_binary_accuracy: 0.8286\n",
            "Epoch 2/100\n",
            "191/191 [==============================] - 118s 619ms/step - loss: 0.3522 - binary_accuracy: 0.8571 - val_loss: 0.4128 - val_binary_accuracy: 0.8339\n",
            "Epoch 3/100\n",
            "191/191 [==============================] - 118s 621ms/step - loss: 0.2911 - binary_accuracy: 0.8880 - val_loss: 0.4430 - val_binary_accuracy: 0.8293\n",
            "Epoch 4/100\n",
            "191/191 [==============================] - 119s 622ms/step - loss: 0.2310 - binary_accuracy: 0.9169 - val_loss: 0.4897 - val_binary_accuracy: 0.8221\n",
            "Epoch 5/100\n",
            "191/191 [==============================] - 119s 620ms/step - loss: 0.1832 - binary_accuracy: 0.9355 - val_loss: 0.5471 - val_binary_accuracy: 0.8102\n",
            "Epoch 6/100\n",
            "191/191 [==============================] - 118s 620ms/step - loss: 0.1458 - binary_accuracy: 0.9511 - val_loss: 0.6148 - val_binary_accuracy: 0.8155\n"
          ]
        }
      ],
      "source": [
        "early_stop_callback = EarlyStopping(patience = 5)\n",
        "epochs = 100\n",
        "history = model.fit(\n",
        "    train_ds,\n",
        "    validation_data = test_ds,\n",
        "    epochs=epochs,\n",
        "    callbacks = [early_stop_callback]\n",
        ")\n"
      ]
    },
    {
      "cell_type": "markdown",
      "id": "6d01234d",
      "metadata": {
        "papermill": {
          "duration": 0.084682,
          "end_time": "2022-12-12T03:18:39.576919",
          "exception": false,
          "start_time": "2022-12-12T03:18:39.492237",
          "status": "completed"
        },
        "tags": [],
        "id": "6d01234d"
      },
      "source": [
        "# Predict Test"
      ]
    },
    {
      "cell_type": "code",
      "execution_count": null,
      "id": "26f3dfb1",
      "metadata": {
        "execution": {
          "iopub.execute_input": "2022-12-12T03:18:39.746714Z",
          "iopub.status.busy": "2022-12-12T03:18:39.746247Z",
          "iopub.status.idle": "2022-12-12T03:18:39.785157Z",
          "shell.execute_reply": "2022-12-12T03:18:39.784092Z"
        },
        "papermill": {
          "duration": 0.124249,
          "end_time": "2022-12-12T03:18:39.787461",
          "exception": false,
          "start_time": "2022-12-12T03:18:39.663212",
          "status": "completed"
        },
        "tags": [],
        "id": "26f3dfb1",
        "outputId": "d73891b4-d5aa-42fc-9354-545d6b41aa86"
      },
      "outputs": [
        {
          "data": {
            "text/html": [
              "<div>\n",
              "<style scoped>\n",
              "    .dataframe tbody tr th:only-of-type {\n",
              "        vertical-align: middle;\n",
              "    }\n",
              "\n",
              "    .dataframe tbody tr th {\n",
              "        vertical-align: top;\n",
              "    }\n",
              "\n",
              "    .dataframe thead th {\n",
              "        text-align: right;\n",
              "    }\n",
              "</style>\n",
              "<table border=\"1\" class=\"dataframe\">\n",
              "  <thead>\n",
              "    <tr style=\"text-align: right;\">\n",
              "      <th></th>\n",
              "      <th>id</th>\n",
              "      <th>keyword</th>\n",
              "      <th>location</th>\n",
              "      <th>text</th>\n",
              "    </tr>\n",
              "  </thead>\n",
              "  <tbody>\n",
              "    <tr>\n",
              "      <th>0</th>\n",
              "      <td>0</td>\n",
              "      <td>NaN</td>\n",
              "      <td>NaN</td>\n",
              "      <td>Just happened a terrible car crash</td>\n",
              "    </tr>\n",
              "    <tr>\n",
              "      <th>1</th>\n",
              "      <td>2</td>\n",
              "      <td>NaN</td>\n",
              "      <td>NaN</td>\n",
              "      <td>Heard about #earthquake is different cities, s...</td>\n",
              "    </tr>\n",
              "    <tr>\n",
              "      <th>2</th>\n",
              "      <td>3</td>\n",
              "      <td>NaN</td>\n",
              "      <td>NaN</td>\n",
              "      <td>there is a forest fire at spot pond, geese are...</td>\n",
              "    </tr>\n",
              "    <tr>\n",
              "      <th>3</th>\n",
              "      <td>9</td>\n",
              "      <td>NaN</td>\n",
              "      <td>NaN</td>\n",
              "      <td>Apocalypse lighting. #Spokane #wildfires</td>\n",
              "    </tr>\n",
              "    <tr>\n",
              "      <th>4</th>\n",
              "      <td>11</td>\n",
              "      <td>NaN</td>\n",
              "      <td>NaN</td>\n",
              "      <td>Typhoon Soudelor kills 28 in China and Taiwan</td>\n",
              "    </tr>\n",
              "  </tbody>\n",
              "</table>\n",
              "</div>"
            ],
            "text/plain": [
              "   id keyword location                                               text\n",
              "0   0     NaN      NaN                 Just happened a terrible car crash\n",
              "1   2     NaN      NaN  Heard about #earthquake is different cities, s...\n",
              "2   3     NaN      NaN  there is a forest fire at spot pond, geese are...\n",
              "3   9     NaN      NaN           Apocalypse lighting. #Spokane #wildfires\n",
              "4  11     NaN      NaN      Typhoon Soudelor kills 28 in China and Taiwan"
            ]
          },
          "execution_count": 21,
          "metadata": {},
          "output_type": "execute_result"
        }
      ],
      "source": [
        "test_df = pd.read_csv(\"../input/nlp-getting-started/test.csv\")\n",
        "test_df.head()"
      ]
    },
    {
      "cell_type": "code",
      "execution_count": null,
      "id": "d9c326e1",
      "metadata": {
        "execution": {
          "iopub.execute_input": "2022-12-12T03:18:39.948911Z",
          "iopub.status.busy": "2022-12-12T03:18:39.947314Z",
          "iopub.status.idle": "2022-12-12T03:19:02.902678Z",
          "shell.execute_reply": "2022-12-12T03:19:02.901614Z"
        },
        "papermill": {
          "duration": 23.037408,
          "end_time": "2022-12-12T03:19:02.905157",
          "exception": false,
          "start_time": "2022-12-12T03:18:39.867749",
          "status": "completed"
        },
        "tags": [],
        "id": "d9c326e1"
      },
      "outputs": [],
      "source": [
        "topred_ds = tf.data.Dataset.from_tensor_slices(test_df.text)\n",
        "AUTOTUNE = tf.data.AUTOTUNE\n",
        "topred_ds = topred_ds.batch(32).cache().prefetch(buffer_size=AUTOTUNE)"
      ]
    },
    {
      "cell_type": "code",
      "execution_count": null,
      "id": "eafb2bf9",
      "metadata": {
        "execution": {
          "iopub.execute_input": "2022-12-12T03:19:03.062341Z",
          "iopub.status.busy": "2022-12-12T03:19:03.061448Z",
          "iopub.status.idle": "2022-12-12T03:19:26.996360Z",
          "shell.execute_reply": "2022-12-12T03:19:26.995353Z"
        },
        "papermill": {
          "duration": 24.015739,
          "end_time": "2022-12-12T03:19:26.998784",
          "exception": false,
          "start_time": "2022-12-12T03:19:02.983045",
          "status": "completed"
        },
        "tags": [],
        "id": "eafb2bf9"
      },
      "outputs": [],
      "source": [
        "preds = model.predict(topred_ds)"
      ]
    },
    {
      "cell_type": "code",
      "execution_count": null,
      "id": "dd91e2e5",
      "metadata": {
        "execution": {
          "iopub.execute_input": "2022-12-12T03:19:27.157223Z",
          "iopub.status.busy": "2022-12-12T03:19:27.156886Z",
          "iopub.status.idle": "2022-12-12T03:19:27.165795Z",
          "shell.execute_reply": "2022-12-12T03:19:27.164833Z"
        },
        "papermill": {
          "duration": 0.089423,
          "end_time": "2022-12-12T03:19:27.167720",
          "exception": false,
          "start_time": "2022-12-12T03:19:27.078297",
          "status": "completed"
        },
        "tags": [],
        "id": "dd91e2e5"
      },
      "outputs": [],
      "source": [
        "# Now we not apply sigmoid function here because or activation function\n",
        "test_df[\"target\"] = tf.round(preds)\n",
        "test_df[\"target\"] = test_df[\"target\"].astype(int)"
      ]
    },
    {
      "cell_type": "code",
      "execution_count": null,
      "id": "ccd6625a",
      "metadata": {
        "execution": {
          "iopub.execute_input": "2022-12-12T03:19:27.387740Z",
          "iopub.status.busy": "2022-12-12T03:19:27.387383Z",
          "iopub.status.idle": "2022-12-12T03:19:27.404870Z",
          "shell.execute_reply": "2022-12-12T03:19:27.403738Z"
        },
        "papermill": {
          "duration": 0.098568,
          "end_time": "2022-12-12T03:19:27.407080",
          "exception": false,
          "start_time": "2022-12-12T03:19:27.308512",
          "status": "completed"
        },
        "tags": [],
        "id": "ccd6625a",
        "outputId": "1c487f0d-2d4c-4944-fb0a-97a4bf31bdd4"
      },
      "outputs": [
        {
          "data": {
            "text/html": [
              "<div>\n",
              "<style scoped>\n",
              "    .dataframe tbody tr th:only-of-type {\n",
              "        vertical-align: middle;\n",
              "    }\n",
              "\n",
              "    .dataframe tbody tr th {\n",
              "        vertical-align: top;\n",
              "    }\n",
              "\n",
              "    .dataframe thead th {\n",
              "        text-align: right;\n",
              "    }\n",
              "</style>\n",
              "<table border=\"1\" class=\"dataframe\">\n",
              "  <thead>\n",
              "    <tr style=\"text-align: right;\">\n",
              "      <th></th>\n",
              "      <th>id</th>\n",
              "      <th>target</th>\n",
              "    </tr>\n",
              "  </thead>\n",
              "  <tbody>\n",
              "    <tr>\n",
              "      <th>0</th>\n",
              "      <td>0</td>\n",
              "      <td>1</td>\n",
              "    </tr>\n",
              "    <tr>\n",
              "      <th>1</th>\n",
              "      <td>2</td>\n",
              "      <td>1</td>\n",
              "    </tr>\n",
              "    <tr>\n",
              "      <th>2</th>\n",
              "      <td>3</td>\n",
              "      <td>1</td>\n",
              "    </tr>\n",
              "    <tr>\n",
              "      <th>3</th>\n",
              "      <td>9</td>\n",
              "      <td>1</td>\n",
              "    </tr>\n",
              "    <tr>\n",
              "      <th>4</th>\n",
              "      <td>11</td>\n",
              "      <td>1</td>\n",
              "    </tr>\n",
              "    <tr>\n",
              "      <th>...</th>\n",
              "      <td>...</td>\n",
              "      <td>...</td>\n",
              "    </tr>\n",
              "    <tr>\n",
              "      <th>3258</th>\n",
              "      <td>10861</td>\n",
              "      <td>0</td>\n",
              "    </tr>\n",
              "    <tr>\n",
              "      <th>3259</th>\n",
              "      <td>10865</td>\n",
              "      <td>1</td>\n",
              "    </tr>\n",
              "    <tr>\n",
              "      <th>3260</th>\n",
              "      <td>10868</td>\n",
              "      <td>1</td>\n",
              "    </tr>\n",
              "    <tr>\n",
              "      <th>3261</th>\n",
              "      <td>10874</td>\n",
              "      <td>1</td>\n",
              "    </tr>\n",
              "    <tr>\n",
              "      <th>3262</th>\n",
              "      <td>10875</td>\n",
              "      <td>1</td>\n",
              "    </tr>\n",
              "  </tbody>\n",
              "</table>\n",
              "<p>3263 rows × 2 columns</p>\n",
              "</div>"
            ],
            "text/plain": [
              "         id  target\n",
              "0         0       1\n",
              "1         2       1\n",
              "2         3       1\n",
              "3         9       1\n",
              "4        11       1\n",
              "...     ...     ...\n",
              "3258  10861       0\n",
              "3259  10865       1\n",
              "3260  10868       1\n",
              "3261  10874       1\n",
              "3262  10875       1\n",
              "\n",
              "[3263 rows x 2 columns]"
            ]
          },
          "execution_count": 25,
          "metadata": {},
          "output_type": "execute_result"
        }
      ],
      "source": [
        "sub = test_df[[\"id\", \"target\"]]\n",
        "sub"
      ]
    },
    {
      "cell_type": "code",
      "execution_count": null,
      "id": "14685fcc",
      "metadata": {
        "execution": {
          "iopub.execute_input": "2022-12-12T03:19:27.564798Z",
          "iopub.status.busy": "2022-12-12T03:19:27.563690Z",
          "iopub.status.idle": "2022-12-12T03:19:27.575732Z",
          "shell.execute_reply": "2022-12-12T03:19:27.574878Z"
        },
        "papermill": {
          "duration": 0.093089,
          "end_time": "2022-12-12T03:19:27.577764",
          "exception": false,
          "start_time": "2022-12-12T03:19:27.484675",
          "status": "completed"
        },
        "tags": [],
        "id": "14685fcc"
      },
      "outputs": [],
      "source": [
        "#sub.to_csv(\"BERT_submission.csv\", index = False)\n",
        "sub.to_csv(\"submission.csv\", index = False)"
      ]
    },
    {
      "cell_type": "markdown",
      "id": "deca7289",
      "metadata": {
        "papermill": {
          "duration": 0.07818,
          "end_time": "2022-12-12T03:19:27.734182",
          "exception": false,
          "start_time": "2022-12-12T03:19:27.656002",
          "status": "completed"
        },
        "tags": [],
        "id": "deca7289"
      },
      "source": [
        "![image.png](attachment:a5bf63e9-1dc2-4c8a-921e-1f354f3b3cf3.png)"
      ]
    },
    {
      "cell_type": "markdown",
      "id": "9d1fb0b8",
      "metadata": {
        "papermill": {
          "duration": 0.077177,
          "end_time": "2022-12-12T03:19:27.889803",
          "exception": false,
          "start_time": "2022-12-12T03:19:27.812626",
          "status": "completed"
        },
        "tags": [],
        "id": "9d1fb0b8"
      },
      "source": [
        "# Observations\n",
        "\n",
        "🎉🎉🎉🎉🎉🎉 🥳🥳🥳🥳🥳🥳\n",
        "\n",
        "Wow! We improve our score in more than 2%! So we could see the benefits of use transformers! \n",
        "\n",
        "There is a lot of pre-trained models. We could try other types. Now we will use HuggingFace🤗 to apply transformers models.\n"
      ]
    },
    {
      "cell_type": "markdown",
      "id": "5efd72b2",
      "metadata": {
        "papermill": {
          "duration": 0.077025,
          "end_time": "2022-12-12T03:19:28.044409",
          "exception": false,
          "start_time": "2022-12-12T03:19:27.967384",
          "status": "completed"
        },
        "tags": [],
        "id": "5efd72b2"
      },
      "source": [
        "# 4.2 HuggingFace 🤗\n",
        "\n",
        "It is a framework to easily develop machine learning models and become well known due to their transformers aplications!\n",
        "\n",
        "To know more about visit : https://huggingface.co. I encourage you do the course in their website!"
      ]
    },
    {
      "cell_type": "code",
      "execution_count": null,
      "id": "2f22688b",
      "metadata": {
        "execution": {
          "iopub.execute_input": "2022-12-12T03:19:28.203412Z",
          "iopub.status.busy": "2022-12-12T03:19:28.203000Z",
          "iopub.status.idle": "2022-12-12T03:19:31.273873Z",
          "shell.execute_reply": "2022-12-12T03:19:31.272912Z"
        },
        "papermill": {
          "duration": 3.152941,
          "end_time": "2022-12-12T03:19:31.276395",
          "exception": false,
          "start_time": "2022-12-12T03:19:28.123454",
          "status": "completed"
        },
        "tags": [],
        "id": "2f22688b"
      },
      "outputs": [],
      "source": [
        "# Imports \n",
        "from transformers import pipeline"
      ]
    },
    {
      "cell_type": "markdown",
      "id": "adbd3827",
      "metadata": {
        "papermill": {
          "duration": 0.079074,
          "end_time": "2022-12-12T03:19:31.435625",
          "exception": false,
          "start_time": "2022-12-12T03:19:31.356551",
          "status": "completed"
        },
        "tags": [],
        "id": "adbd3827"
      },
      "source": [
        "## HF 🤗 Pipelines - Zero Shot Classification\n",
        "\n",
        "As you can see in the hf documentation. HuggingFace has pipelines, where we can develop a variety of nlp (and more) applications! (Text generation, classification, summarization, etc)\n",
        "\n",
        "Now we will do [Zero shot classification](https://en.wikipedia.org/wiki/Zero-shot_learning). That means that we will predict classes that wasn't observe during traning. It is a difficult task"
      ]
    },
    {
      "cell_type": "code",
      "execution_count": null,
      "id": "05359a6a",
      "metadata": {
        "execution": {
          "iopub.execute_input": "2022-12-12T03:19:31.608230Z",
          "iopub.status.busy": "2022-12-12T03:19:31.607863Z",
          "iopub.status.idle": "2022-12-12T03:20:12.664960Z",
          "shell.execute_reply": "2022-12-12T03:20:12.663726Z"
        },
        "papermill": {
          "duration": 41.140652,
          "end_time": "2022-12-12T03:20:12.667514",
          "exception": false,
          "start_time": "2022-12-12T03:19:31.526862",
          "status": "completed"
        },
        "tags": [],
        "id": "05359a6a",
        "outputId": "8aae8514-9471-46f1-ff2a-1d8fc5f16adb",
        "colab": {
          "referenced_widgets": [
            "4b433850eb5b46a6a4182180b29d5057",
            "5105a8557caa4f1fb7ed22f0ccd37272",
            "f2a010ae53144f39aeea97127c401fc4",
            "05a751a63b1f4cc6870b6dbef7fedba7",
            "4fea0365d45c4fc78b965eaa2f54792d",
            "683eaad7692b4d3982b276912674f223"
          ]
        }
      },
      "outputs": [
        {
          "data": {
            "application/vnd.jupyter.widget-view+json": {
              "model_id": "4b433850eb5b46a6a4182180b29d5057",
              "version_major": 2,
              "version_minor": 0
            },
            "text/plain": [
              "Downloading:   0%|          | 0.00/1.13k [00:00<?, ?B/s]"
            ]
          },
          "metadata": {},
          "output_type": "display_data"
        },
        {
          "data": {
            "application/vnd.jupyter.widget-view+json": {
              "model_id": "5105a8557caa4f1fb7ed22f0ccd37272",
              "version_major": 2,
              "version_minor": 0
            },
            "text/plain": [
              "Downloading:   0%|          | 0.00/1.52G [00:00<?, ?B/s]"
            ]
          },
          "metadata": {},
          "output_type": "display_data"
        },
        {
          "data": {
            "application/vnd.jupyter.widget-view+json": {
              "model_id": "f2a010ae53144f39aeea97127c401fc4",
              "version_major": 2,
              "version_minor": 0
            },
            "text/plain": [
              "Downloading:   0%|          | 0.00/26.0 [00:00<?, ?B/s]"
            ]
          },
          "metadata": {},
          "output_type": "display_data"
        },
        {
          "data": {
            "application/vnd.jupyter.widget-view+json": {
              "model_id": "05a751a63b1f4cc6870b6dbef7fedba7",
              "version_major": 2,
              "version_minor": 0
            },
            "text/plain": [
              "Downloading:   0%|          | 0.00/878k [00:00<?, ?B/s]"
            ]
          },
          "metadata": {},
          "output_type": "display_data"
        },
        {
          "data": {
            "application/vnd.jupyter.widget-view+json": {
              "model_id": "4fea0365d45c4fc78b965eaa2f54792d",
              "version_major": 2,
              "version_minor": 0
            },
            "text/plain": [
              "Downloading:   0%|          | 0.00/446k [00:00<?, ?B/s]"
            ]
          },
          "metadata": {},
          "output_type": "display_data"
        },
        {
          "data": {
            "application/vnd.jupyter.widget-view+json": {
              "model_id": "683eaad7692b4d3982b276912674f223",
              "version_major": 2,
              "version_minor": 0
            },
            "text/plain": [
              "Downloading:   0%|          | 0.00/1.29M [00:00<?, ?B/s]"
            ]
          },
          "metadata": {},
          "output_type": "display_data"
        }
      ],
      "source": [
        "classifier = pipeline(\"zero-shot-classification\",\n",
        "                      model=\"facebook/bart-large-mnli\")"
      ]
    },
    {
      "cell_type": "code",
      "execution_count": null,
      "id": "0dc6ffda",
      "metadata": {
        "execution": {
          "iopub.execute_input": "2022-12-12T03:20:12.826520Z",
          "iopub.status.busy": "2022-12-12T03:20:12.826141Z",
          "iopub.status.idle": "2022-12-12T03:54:00.852940Z",
          "shell.execute_reply": "2022-12-12T03:54:00.851910Z"
        },
        "papermill": {
          "duration": 2028.108823,
          "end_time": "2022-12-12T03:54:00.855476",
          "exception": false,
          "start_time": "2022-12-12T03:20:12.746653",
          "status": "completed"
        },
        "tags": [],
        "id": "0dc6ffda"
      },
      "outputs": [],
      "source": [
        "# predict\n",
        "candidate_labels = ['disaster']\n",
        "test_df['target'] = [x['scores'][0] for x in classifier(test_df.text.to_list(), candidate_labels)]"
      ]
    },
    {
      "cell_type": "code",
      "execution_count": null,
      "id": "d4c06387",
      "metadata": {
        "execution": {
          "iopub.execute_input": "2022-12-12T03:54:01.016418Z",
          "iopub.status.busy": "2022-12-12T03:54:01.016070Z",
          "iopub.status.idle": "2022-12-12T03:54:01.025266Z",
          "shell.execute_reply": "2022-12-12T03:54:01.024342Z"
        },
        "papermill": {
          "duration": 0.091183,
          "end_time": "2022-12-12T03:54:01.027249",
          "exception": false,
          "start_time": "2022-12-12T03:54:00.936066",
          "status": "completed"
        },
        "tags": [],
        "id": "d4c06387"
      },
      "outputs": [],
      "source": [
        "test_df[\"target\"] = tf.round(test_df.target)\n",
        "test_df[\"target\"] = test_df[\"target\"].astype(int)"
      ]
    },
    {
      "cell_type": "code",
      "execution_count": null,
      "id": "ff112320",
      "metadata": {
        "execution": {
          "iopub.execute_input": "2022-12-12T03:54:01.185246Z",
          "iopub.status.busy": "2022-12-12T03:54:01.184384Z",
          "iopub.status.idle": "2022-12-12T03:54:01.197323Z",
          "shell.execute_reply": "2022-12-12T03:54:01.196335Z"
        },
        "papermill": {
          "duration": 0.09335,
          "end_time": "2022-12-12T03:54:01.199448",
          "exception": false,
          "start_time": "2022-12-12T03:54:01.106098",
          "status": "completed"
        },
        "tags": [],
        "id": "ff112320",
        "outputId": "cca1085c-e486-47c8-8e7e-38d80478a140"
      },
      "outputs": [
        {
          "data": {
            "text/html": [
              "<div>\n",
              "<style scoped>\n",
              "    .dataframe tbody tr th:only-of-type {\n",
              "        vertical-align: middle;\n",
              "    }\n",
              "\n",
              "    .dataframe tbody tr th {\n",
              "        vertical-align: top;\n",
              "    }\n",
              "\n",
              "    .dataframe thead th {\n",
              "        text-align: right;\n",
              "    }\n",
              "</style>\n",
              "<table border=\"1\" class=\"dataframe\">\n",
              "  <thead>\n",
              "    <tr style=\"text-align: right;\">\n",
              "      <th></th>\n",
              "      <th>id</th>\n",
              "      <th>target</th>\n",
              "    </tr>\n",
              "  </thead>\n",
              "  <tbody>\n",
              "    <tr>\n",
              "      <th>0</th>\n",
              "      <td>0</td>\n",
              "      <td>1</td>\n",
              "    </tr>\n",
              "    <tr>\n",
              "      <th>1</th>\n",
              "      <td>2</td>\n",
              "      <td>1</td>\n",
              "    </tr>\n",
              "    <tr>\n",
              "      <th>2</th>\n",
              "      <td>3</td>\n",
              "      <td>1</td>\n",
              "    </tr>\n",
              "    <tr>\n",
              "      <th>3</th>\n",
              "      <td>9</td>\n",
              "      <td>1</td>\n",
              "    </tr>\n",
              "    <tr>\n",
              "      <th>4</th>\n",
              "      <td>11</td>\n",
              "      <td>1</td>\n",
              "    </tr>\n",
              "    <tr>\n",
              "      <th>...</th>\n",
              "      <td>...</td>\n",
              "      <td>...</td>\n",
              "    </tr>\n",
              "    <tr>\n",
              "      <th>3258</th>\n",
              "      <td>10861</td>\n",
              "      <td>0</td>\n",
              "    </tr>\n",
              "    <tr>\n",
              "      <th>3259</th>\n",
              "      <td>10865</td>\n",
              "      <td>1</td>\n",
              "    </tr>\n",
              "    <tr>\n",
              "      <th>3260</th>\n",
              "      <td>10868</td>\n",
              "      <td>1</td>\n",
              "    </tr>\n",
              "    <tr>\n",
              "      <th>3261</th>\n",
              "      <td>10874</td>\n",
              "      <td>1</td>\n",
              "    </tr>\n",
              "    <tr>\n",
              "      <th>3262</th>\n",
              "      <td>10875</td>\n",
              "      <td>1</td>\n",
              "    </tr>\n",
              "  </tbody>\n",
              "</table>\n",
              "<p>3263 rows × 2 columns</p>\n",
              "</div>"
            ],
            "text/plain": [
              "         id  target\n",
              "0         0       1\n",
              "1         2       1\n",
              "2         3       1\n",
              "3         9       1\n",
              "4        11       1\n",
              "...     ...     ...\n",
              "3258  10861       0\n",
              "3259  10865       1\n",
              "3260  10868       1\n",
              "3261  10874       1\n",
              "3262  10875       1\n",
              "\n",
              "[3263 rows x 2 columns]"
            ]
          },
          "execution_count": 31,
          "metadata": {},
          "output_type": "execute_result"
        }
      ],
      "source": [
        "sub = test_df[[\"id\", \"target\"]]\n",
        "sub"
      ]
    },
    {
      "cell_type": "code",
      "execution_count": null,
      "id": "f77f5688",
      "metadata": {
        "execution": {
          "iopub.execute_input": "2022-12-12T03:54:01.357460Z",
          "iopub.status.busy": "2022-12-12T03:54:01.356634Z",
          "iopub.status.idle": "2022-12-12T03:54:01.365889Z",
          "shell.execute_reply": "2022-12-12T03:54:01.365061Z"
        },
        "papermill": {
          "duration": 0.089782,
          "end_time": "2022-12-12T03:54:01.367871",
          "exception": false,
          "start_time": "2022-12-12T03:54:01.278089",
          "status": "completed"
        },
        "tags": [],
        "id": "f77f5688"
      },
      "outputs": [],
      "source": [
        "sub.to_csv(\"HF_ZS_Submission.csv\", index = False)"
      ]
    },
    {
      "cell_type": "markdown",
      "id": "3c422114",
      "metadata": {
        "papermill": {
          "duration": 0.123122,
          "end_time": "2022-12-12T03:54:01.569392",
          "exception": false,
          "start_time": "2022-12-12T03:54:01.446270",
          "status": "completed"
        },
        "tags": [],
        "id": "3c422114"
      },
      "source": [
        "![image.png](attachment:d7631cbf-6fad-4494-a240-b3f579cdc252.png)"
      ]
    },
    {
      "cell_type": "markdown",
      "id": "08243b04",
      "metadata": {
        "papermill": {
          "duration": 0.120025,
          "end_time": "2022-12-12T03:54:01.829987",
          "exception": false,
          "start_time": "2022-12-12T03:54:01.709962",
          "status": "completed"
        },
        "tags": [],
        "id": "08243b04"
      },
      "source": [
        "Make sense because is a zero shot classification!"
      ]
    },
    {
      "cell_type": "markdown",
      "id": "3c4c965e",
      "metadata": {
        "papermill": {
          "duration": 0.166458,
          "end_time": "2022-12-12T03:54:02.113546",
          "exception": false,
          "start_time": "2022-12-12T03:54:01.947088",
          "status": "completed"
        },
        "tags": [],
        "id": "3c4c965e"
      },
      "source": [
        "## Fine-Tune\n",
        "\n",
        "Now we will download a model from HuggingFace models and finetune with our data"
      ]
    },
    {
      "cell_type": "code",
      "execution_count": null,
      "id": "23ab8264",
      "metadata": {
        "execution": {
          "iopub.execute_input": "2022-12-12T03:54:02.272551Z",
          "iopub.status.busy": "2022-12-12T03:54:02.272191Z",
          "iopub.status.idle": "2022-12-12T03:54:02.276620Z",
          "shell.execute_reply": "2022-12-12T03:54:02.275581Z"
        },
        "papermill": {
          "duration": 0.086331,
          "end_time": "2022-12-12T03:54:02.278582",
          "exception": false,
          "start_time": "2022-12-12T03:54:02.192251",
          "status": "completed"
        },
        "tags": [],
        "id": "23ab8264"
      },
      "outputs": [],
      "source": [
        "# Model name to fine tune\n",
        "model_name = \"distilbert-base-uncased-finetuned-sst-2-english\""
      ]
    },
    {
      "cell_type": "code",
      "execution_count": null,
      "id": "bcd0aa92",
      "metadata": {
        "execution": {
          "iopub.execute_input": "2022-12-12T03:54:02.438159Z",
          "iopub.status.busy": "2022-12-12T03:54:02.436623Z",
          "iopub.status.idle": "2022-12-12T03:54:03.920205Z",
          "shell.execute_reply": "2022-12-12T03:54:03.919076Z"
        },
        "papermill": {
          "duration": 1.565515,
          "end_time": "2022-12-12T03:54:03.922759",
          "exception": false,
          "start_time": "2022-12-12T03:54:02.357244",
          "status": "completed"
        },
        "tags": [],
        "id": "bcd0aa92",
        "outputId": "02cfd3c8-8a8b-4942-ad67-b0a02ef9f94d",
        "colab": {
          "referenced_widgets": [
            "4c14df10c97f4237a3d1fda0d4096734",
            "89b9844634dd4e0a8b224f3f83926265",
            "7a3672e5c1df4b55a8b33b21adaf74ee"
          ]
        }
      },
      "outputs": [
        {
          "data": {
            "application/vnd.jupyter.widget-view+json": {
              "model_id": "4c14df10c97f4237a3d1fda0d4096734",
              "version_major": 2,
              "version_minor": 0
            },
            "text/plain": [
              "Downloading:   0%|          | 0.00/48.0 [00:00<?, ?B/s]"
            ]
          },
          "metadata": {},
          "output_type": "display_data"
        },
        {
          "data": {
            "application/vnd.jupyter.widget-view+json": {
              "model_id": "89b9844634dd4e0a8b224f3f83926265",
              "version_major": 2,
              "version_minor": 0
            },
            "text/plain": [
              "Downloading:   0%|          | 0.00/629 [00:00<?, ?B/s]"
            ]
          },
          "metadata": {},
          "output_type": "display_data"
        },
        {
          "data": {
            "application/vnd.jupyter.widget-view+json": {
              "model_id": "7a3672e5c1df4b55a8b33b21adaf74ee",
              "version_major": 2,
              "version_minor": 0
            },
            "text/plain": [
              "Downloading:   0%|          | 0.00/226k [00:00<?, ?B/s]"
            ]
          },
          "metadata": {},
          "output_type": "display_data"
        }
      ],
      "source": [
        "from transformers import AutoTokenizer\n",
        "\n",
        "# First we need to use the tokenizer (Is similar we did in the Tensorflow hub with the preprocessing layer)\n",
        "tokenizer = AutoTokenizer.from_pretrained(model_name)\n",
        "\n",
        "def tokenize_dataset(data):\n",
        "    # Keys of the returned dictionary will be added to the dataset as columns\n",
        "    return tokenizer(data[\"text\"])"
      ]
    },
    {
      "cell_type": "code",
      "execution_count": null,
      "id": "193aa5b6",
      "metadata": {
        "execution": {
          "iopub.execute_input": "2022-12-12T03:54:04.081613Z",
          "iopub.status.busy": "2022-12-12T03:54:04.081277Z",
          "iopub.status.idle": "2022-12-12T03:54:04.631407Z",
          "shell.execute_reply": "2022-12-12T03:54:04.630430Z"
        },
        "papermill": {
          "duration": 0.631594,
          "end_time": "2022-12-12T03:54:04.633839",
          "exception": false,
          "start_time": "2022-12-12T03:54:04.002245",
          "status": "completed"
        },
        "tags": [],
        "id": "193aa5b6",
        "outputId": "15d72857-da14-4728-f929-9f289142ffc0",
        "colab": {
          "referenced_widgets": [
            "11cd6d1a315a48cb85b595428c7a1dc4",
            "7d6789e55f1442ceb26647809e554bf8",
            "1e3345f17de943e695c9437775e0fe0e"
          ]
        }
      },
      "outputs": [
        {
          "name": "stdout",
          "output_type": "stream",
          "text": [
            "Downloading and preparing dataset csv/default to /root/.cache/huggingface/datasets/csv/default-1860883215d5579d/0.0.0/433e0ccc46f9880962cc2b12065189766fbb2bee57a221866138fb9203c83519...\n"
          ]
        },
        {
          "data": {
            "application/vnd.jupyter.widget-view+json": {
              "model_id": "11cd6d1a315a48cb85b595428c7a1dc4",
              "version_major": 2,
              "version_minor": 0
            },
            "text/plain": [
              "Downloading data files:   0%|          | 0/2 [00:00<?, ?it/s]"
            ]
          },
          "metadata": {},
          "output_type": "display_data"
        },
        {
          "data": {
            "application/vnd.jupyter.widget-view+json": {
              "model_id": "7d6789e55f1442ceb26647809e554bf8",
              "version_major": 2,
              "version_minor": 0
            },
            "text/plain": [
              "Extracting data files:   0%|          | 0/2 [00:00<?, ?it/s]"
            ]
          },
          "metadata": {},
          "output_type": "display_data"
        },
        {
          "name": "stdout",
          "output_type": "stream",
          "text": [
            "Dataset csv downloaded and prepared to /root/.cache/huggingface/datasets/csv/default-1860883215d5579d/0.0.0/433e0ccc46f9880962cc2b12065189766fbb2bee57a221866138fb9203c83519. Subsequent calls will reuse this data.\n"
          ]
        },
        {
          "data": {
            "application/vnd.jupyter.widget-view+json": {
              "model_id": "1e3345f17de943e695c9437775e0fe0e",
              "version_major": 2,
              "version_minor": 0
            },
            "text/plain": [
              "  0%|          | 0/2 [00:00<?, ?it/s]"
            ]
          },
          "metadata": {},
          "output_type": "display_data"
        }
      ],
      "source": [
        "# We need to load our data, for this we use HF datasets (read directly from the disk, so save us ram)\n",
        "from datasets import load_dataset\n",
        "data_files = {\"train\": \"/kaggle/input/df-split/df_split/df_train.csv\",\n",
        "             \"test\":\"/kaggle/input/df-split/df_split/df_test.csv\"}\n",
        "dataset = load_dataset(\"csv\", data_files = data_files, usecols = ['text', 'target'])"
      ]
    },
    {
      "cell_type": "code",
      "execution_count": null,
      "id": "59e951e6",
      "metadata": {
        "execution": {
          "iopub.execute_input": "2022-12-12T03:54:04.796273Z",
          "iopub.status.busy": "2022-12-12T03:54:04.794738Z",
          "iopub.status.idle": "2022-12-12T03:54:04.801807Z",
          "shell.execute_reply": "2022-12-12T03:54:04.800859Z"
        },
        "papermill": {
          "duration": 0.090218,
          "end_time": "2022-12-12T03:54:04.803865",
          "exception": false,
          "start_time": "2022-12-12T03:54:04.713647",
          "status": "completed"
        },
        "tags": [],
        "id": "59e951e6",
        "outputId": "5747e938-9b5d-4914-c0d5-c6babf0757aa"
      },
      "outputs": [
        {
          "data": {
            "text/plain": [
              "DatasetDict({\n",
              "    train: Dataset({\n",
              "        features: ['text', 'target'],\n",
              "        num_rows: 6090\n",
              "    })\n",
              "    test: Dataset({\n",
              "        features: ['text', 'target'],\n",
              "        num_rows: 1523\n",
              "    })\n",
              "})"
            ]
          },
          "execution_count": 36,
          "metadata": {},
          "output_type": "execute_result"
        }
      ],
      "source": [
        "dataset"
      ]
    },
    {
      "cell_type": "code",
      "execution_count": null,
      "id": "c5f998fd",
      "metadata": {
        "execution": {
          "iopub.execute_input": "2022-12-12T03:54:04.963988Z",
          "iopub.status.busy": "2022-12-12T03:54:04.963164Z",
          "iopub.status.idle": "2022-12-12T03:54:06.999815Z",
          "shell.execute_reply": "2022-12-12T03:54:06.998824Z"
        },
        "papermill": {
          "duration": 2.118631,
          "end_time": "2022-12-12T03:54:07.001892",
          "exception": false,
          "start_time": "2022-12-12T03:54:04.883261",
          "status": "completed"
        },
        "tags": [],
        "id": "c5f998fd",
        "outputId": "d7e4034b-1f2d-4944-ea18-991bfb335f45",
        "colab": {
          "referenced_widgets": [
            "b15cb4cc50984785875b3d5bf7ef4bdc",
            "7ad58e2e0d254e7eaa5313899fe91352"
          ]
        }
      },
      "outputs": [
        {
          "data": {
            "application/vnd.jupyter.widget-view+json": {
              "model_id": "b15cb4cc50984785875b3d5bf7ef4bdc",
              "version_major": 2,
              "version_minor": 0
            },
            "text/plain": [
              "  0%|          | 0/6090 [00:00<?, ?ex/s]"
            ]
          },
          "metadata": {},
          "output_type": "display_data"
        },
        {
          "data": {
            "application/vnd.jupyter.widget-view+json": {
              "model_id": "7ad58e2e0d254e7eaa5313899fe91352",
              "version_major": 2,
              "version_minor": 0
            },
            "text/plain": [
              "  0%|          | 0/1523 [00:00<?, ?ex/s]"
            ]
          },
          "metadata": {},
          "output_type": "display_data"
        }
      ],
      "source": [
        "# preprocess\n",
        "dataset = dataset.map(tokenize_dataset)"
      ]
    },
    {
      "cell_type": "code",
      "execution_count": null,
      "id": "1cd7180f",
      "metadata": {
        "execution": {
          "iopub.execute_input": "2022-12-12T03:54:07.164161Z",
          "iopub.status.busy": "2022-12-12T03:54:07.163283Z",
          "iopub.status.idle": "2022-12-12T03:54:07.168261Z",
          "shell.execute_reply": "2022-12-12T03:54:07.167404Z"
        },
        "papermill": {
          "duration": 0.087822,
          "end_time": "2022-12-12T03:54:07.170431",
          "exception": false,
          "start_time": "2022-12-12T03:54:07.082609",
          "status": "completed"
        },
        "tags": [],
        "id": "1cd7180f"
      },
      "outputs": [],
      "source": [
        "train_dataset = dataset['train']\n",
        "test_dataset = dataset['test']"
      ]
    },
    {
      "cell_type": "code",
      "execution_count": null,
      "id": "5bc62d69",
      "metadata": {
        "execution": {
          "iopub.execute_input": "2022-12-12T03:54:07.331533Z",
          "iopub.status.busy": "2022-12-12T03:54:07.331217Z",
          "iopub.status.idle": "2022-12-12T03:54:07.636573Z",
          "shell.execute_reply": "2022-12-12T03:54:07.635637Z"
        },
        "papermill": {
          "duration": 0.388561,
          "end_time": "2022-12-12T03:54:07.638959",
          "exception": false,
          "start_time": "2022-12-12T03:54:07.250398",
          "status": "completed"
        },
        "tags": [],
        "id": "5bc62d69"
      },
      "outputs": [],
      "source": [
        "# we transform the HF dataset into TF dataset to fine tune\n",
        "from transformers import DataCollatorWithPadding\n",
        "\n",
        "data_collator = DataCollatorWithPadding(tokenizer=tokenizer, return_tensors=\"tf\")\n",
        "tf_train_dataset = train_dataset.to_tf_dataset(\n",
        "    columns=[\"input_ids\", \"attention_mask\"],\n",
        "    label_cols=[\"target\"],\n",
        "    batch_size=16,\n",
        "    collate_fn=data_collator,\n",
        "    shuffle=True)\n",
        "\n",
        "tf_val_dataset = test_dataset.to_tf_dataset(\n",
        "    columns=[\"input_ids\", \"attention_mask\"],\n",
        "    label_cols=[\"target\"],\n",
        "    batch_size=16,\n",
        "    collate_fn=data_collator,\n",
        "    shuffle=True\n",
        "    )"
      ]
    },
    {
      "cell_type": "markdown",
      "id": "97f7b50c",
      "metadata": {
        "papermill": {
          "duration": 0.078434,
          "end_time": "2022-12-12T03:54:07.797956",
          "exception": false,
          "start_time": "2022-12-12T03:54:07.719522",
          "status": "completed"
        },
        "tags": [],
        "id": "97f7b50c"
      },
      "source": [
        "## Model"
      ]
    },
    {
      "cell_type": "code",
      "execution_count": null,
      "id": "6e60ecb2",
      "metadata": {
        "execution": {
          "iopub.execute_input": "2022-12-12T03:54:07.957757Z",
          "iopub.status.busy": "2022-12-12T03:54:07.957098Z",
          "iopub.status.idle": "2022-12-12T03:58:06.346928Z",
          "shell.execute_reply": "2022-12-12T03:58:06.345927Z"
        },
        "papermill": {
          "duration": 238.472614,
          "end_time": "2022-12-12T03:58:06.349050",
          "exception": false,
          "start_time": "2022-12-12T03:54:07.876436",
          "status": "completed"
        },
        "tags": [],
        "id": "6e60ecb2",
        "outputId": "9aa52f5f-4ec8-4465-8b67-dca922b59573",
        "colab": {
          "referenced_widgets": [
            "50bace6293b044e8807a3f4a814ae698"
          ]
        }
      },
      "outputs": [
        {
          "data": {
            "application/vnd.jupyter.widget-view+json": {
              "model_id": "50bace6293b044e8807a3f4a814ae698",
              "version_major": 2,
              "version_minor": 0
            },
            "text/plain": [
              "Downloading:   0%|          | 0.00/256M [00:00<?, ?B/s]"
            ]
          },
          "metadata": {},
          "output_type": "display_data"
        },
        {
          "name": "stderr",
          "output_type": "stream",
          "text": [
            "2022-12-12 03:54:13.603300: W tensorflow/python/util/util.cc:368] Sets are not currently considered sequences, but this may change in the future, so consider avoiding using them.\n",
            "Some layers from the model checkpoint at distilbert-base-uncased-finetuned-sst-2-english were not used when initializing TFDistilBertForSequenceClassification: ['dropout_19']\n",
            "- This IS expected if you are initializing TFDistilBertForSequenceClassification from the checkpoint of a model trained on another task or with another architecture (e.g. initializing a BertForSequenceClassification model from a BertForPreTraining model).\n",
            "- This IS NOT expected if you are initializing TFDistilBertForSequenceClassification from the checkpoint of a model that you expect to be exactly identical (initializing a BertForSequenceClassification model from a BertForSequenceClassification model).\n",
            "Some layers of TFDistilBertForSequenceClassification were not initialized from the model checkpoint at distilbert-base-uncased-finetuned-sst-2-english and are newly initialized: ['dropout_20']\n",
            "You should probably TRAIN this model on a down-stream task to be able to use it for predictions and inference.\n",
            "No loss specified in compile() - the model's internal loss computation will be used as the loss. Don't panic - this is a common way to train TensorFlow models in Transformers! To disable this behaviour please pass a loss argument, or explicitly pass `loss=None` if you do not want your model to compute a loss.\n"
          ]
        },
        {
          "name": "stdout",
          "output_type": "stream",
          "text": [
            "Epoch 1/20\n",
            "380/380 [==============================] - 44s 87ms/step - loss: 0.4815 - accuracy: 0.7913 - val_loss: 0.3999 - val_accuracy: 0.8270\n",
            "Epoch 2/20\n",
            "380/380 [==============================] - 31s 83ms/step - loss: 0.3179 - accuracy: 0.8750 - val_loss: 0.4339 - val_accuracy: 0.8164\n",
            "Epoch 3/20\n",
            "380/380 [==============================] - 31s 83ms/step - loss: 0.2035 - accuracy: 0.9238 - val_loss: 0.4884 - val_accuracy: 0.8053\n",
            "Epoch 4/20\n",
            "380/380 [==============================] - 31s 83ms/step - loss: 0.1147 - accuracy: 0.9572 - val_loss: 0.5929 - val_accuracy: 0.7967\n",
            "Epoch 5/20\n",
            "380/380 [==============================] - 32s 83ms/step - loss: 0.0829 - accuracy: 0.9729 - val_loss: 0.7295 - val_accuracy: 0.7717\n",
            "Epoch 6/20\n",
            "380/380 [==============================] - 31s 82ms/step - loss: 0.0579 - accuracy: 0.9760 - val_loss: 0.9569 - val_accuracy: 0.7855\n"
          ]
        },
        {
          "data": {
            "text/plain": [
              "<keras.callbacks.History at 0x7f06a863c950>"
            ]
          },
          "execution_count": 40,
          "metadata": {},
          "output_type": "execute_result"
        }
      ],
      "source": [
        "from transformers import TFAutoModelForSequenceClassification\n",
        "from tensorflow.keras.optimizers import Adam\n",
        "\n",
        "# Load and compile our model\n",
        "model = TFAutoModelForSequenceClassification.from_pretrained(model_name)\n",
        "# Lower learning rates are often better for fine-tuning transformers\n",
        "model.compile(optimizer=Adam(3e-5),metrics = ['accuracy'])\n",
        "\n",
        "\n",
        "early_stop_callback = EarlyStopping(patience = 5)\n",
        "model.fit(tf_train_dataset,\n",
        "         validation_data = tf_val_dataset,\n",
        "          epochs = 20,\n",
        "          callbacks = [early_stop_callback]\n",
        "         )"
      ]
    },
    {
      "cell_type": "markdown",
      "id": "c7211229",
      "metadata": {
        "papermill": {
          "duration": 0.199228,
          "end_time": "2022-12-12T03:58:06.799346",
          "exception": false,
          "start_time": "2022-12-12T03:58:06.600118",
          "status": "completed"
        },
        "tags": [],
        "id": "c7211229"
      },
      "source": [
        "### Predict Test"
      ]
    },
    {
      "cell_type": "code",
      "execution_count": null,
      "id": "51dc27bc",
      "metadata": {
        "execution": {
          "iopub.execute_input": "2022-12-12T03:58:07.200048Z",
          "iopub.status.busy": "2022-12-12T03:58:07.199633Z",
          "iopub.status.idle": "2022-12-12T03:58:16.112471Z",
          "shell.execute_reply": "2022-12-12T03:58:16.111470Z"
        },
        "papermill": {
          "duration": 9.11998,
          "end_time": "2022-12-12T03:58:16.118668",
          "exception": false,
          "start_time": "2022-12-12T03:58:06.998688",
          "status": "completed"
        },
        "tags": [],
        "id": "51dc27bc",
        "outputId": "d8106c24-7b7a-4d97-e25b-45b1330e106e",
        "colab": {
          "referenced_widgets": [
            "c94f975f984d47e98107e8528139aecd",
            "59e36d7185df46ad9804f2500b4aff08",
            "7335c35c10074735bf976ae5d95777ed"
          ]
        }
      },
      "outputs": [
        {
          "name": "stdout",
          "output_type": "stream",
          "text": [
            "Downloading and preparing dataset csv/default to /root/.cache/huggingface/datasets/csv/default-e12e02ba714b9048/0.0.0/433e0ccc46f9880962cc2b12065189766fbb2bee57a221866138fb9203c83519...\n"
          ]
        },
        {
          "data": {
            "application/vnd.jupyter.widget-view+json": {
              "model_id": "c94f975f984d47e98107e8528139aecd",
              "version_major": 2,
              "version_minor": 0
            },
            "text/plain": [
              "Downloading data files:   0%|          | 0/1 [00:00<?, ?it/s]"
            ]
          },
          "metadata": {},
          "output_type": "display_data"
        },
        {
          "data": {
            "application/vnd.jupyter.widget-view+json": {
              "model_id": "59e36d7185df46ad9804f2500b4aff08",
              "version_major": 2,
              "version_minor": 0
            },
            "text/plain": [
              "Extracting data files:   0%|          | 0/1 [00:08<?, ?it/s]"
            ]
          },
          "metadata": {},
          "output_type": "display_data"
        },
        {
          "name": "stdout",
          "output_type": "stream",
          "text": [
            "Dataset csv downloaded and prepared to /root/.cache/huggingface/datasets/csv/default-e12e02ba714b9048/0.0.0/433e0ccc46f9880962cc2b12065189766fbb2bee57a221866138fb9203c83519. Subsequent calls will reuse this data.\n"
          ]
        },
        {
          "data": {
            "application/vnd.jupyter.widget-view+json": {
              "model_id": "7335c35c10074735bf976ae5d95777ed",
              "version_major": 2,
              "version_minor": 0
            },
            "text/plain": [
              "  0%|          | 0/1 [00:00<?, ?it/s]"
            ]
          },
          "metadata": {},
          "output_type": "display_data"
        }
      ],
      "source": [
        "pred_dataset = load_dataset(\"csv\", data_files = \"/kaggle/input/nlp-getting-started/test.csv\", usecols = ['text'])"
      ]
    },
    {
      "cell_type": "code",
      "execution_count": null,
      "id": "749d0e52",
      "metadata": {
        "execution": {
          "iopub.execute_input": "2022-12-12T03:58:16.539590Z",
          "iopub.status.busy": "2022-12-12T03:58:16.538658Z",
          "iopub.status.idle": "2022-12-12T03:58:17.444931Z",
          "shell.execute_reply": "2022-12-12T03:58:17.444074Z"
        },
        "papermill": {
          "duration": 1.122535,
          "end_time": "2022-12-12T03:58:17.446913",
          "exception": false,
          "start_time": "2022-12-12T03:58:16.324378",
          "status": "completed"
        },
        "tags": [],
        "id": "749d0e52",
        "outputId": "585c8e1b-74ec-4a5f-c893-1fa2c82dfaef",
        "colab": {
          "referenced_widgets": [
            "46d43f10894942568d8c93b3e76ce08d"
          ]
        }
      },
      "outputs": [
        {
          "data": {
            "application/vnd.jupyter.widget-view+json": {
              "model_id": "46d43f10894942568d8c93b3e76ce08d",
              "version_major": 2,
              "version_minor": 0
            },
            "text/plain": [
              "  0%|          | 0/3263 [00:00<?, ?ex/s]"
            ]
          },
          "metadata": {},
          "output_type": "display_data"
        }
      ],
      "source": [
        "# preprocess\n",
        "pred_dataset = pred_dataset.map(tokenize_dataset)"
      ]
    },
    {
      "cell_type": "code",
      "execution_count": null,
      "id": "5e6b7686",
      "metadata": {
        "execution": {
          "iopub.execute_input": "2022-12-12T03:58:17.854549Z",
          "iopub.status.busy": "2022-12-12T03:58:17.854189Z",
          "iopub.status.idle": "2022-12-12T03:58:17.881765Z",
          "shell.execute_reply": "2022-12-12T03:58:17.880688Z"
        },
        "papermill": {
          "duration": 0.233403,
          "end_time": "2022-12-12T03:58:17.884137",
          "exception": false,
          "start_time": "2022-12-12T03:58:17.650734",
          "status": "completed"
        },
        "tags": [],
        "id": "5e6b7686"
      },
      "outputs": [],
      "source": [
        "data_collator = DataCollatorWithPadding(tokenizer=tokenizer, return_tensors=\"tf\")\n",
        "tf_pred_dataset = pred_dataset['train'].to_tf_dataset(\n",
        "    columns=[\"input_ids\", \"attention_mask\"],\n",
        "    batch_size=16,\n",
        "    collate_fn=data_collator,\n",
        "    shuffle=False)"
      ]
    },
    {
      "cell_type": "code",
      "execution_count": null,
      "id": "f5beaaab",
      "metadata": {
        "execution": {
          "iopub.execute_input": "2022-12-12T03:58:18.362940Z",
          "iopub.status.busy": "2022-12-12T03:58:18.362579Z",
          "iopub.status.idle": "2022-12-12T03:58:25.422413Z",
          "shell.execute_reply": "2022-12-12T03:58:25.421301Z"
        },
        "papermill": {
          "duration": 7.266792,
          "end_time": "2022-12-12T03:58:25.425082",
          "exception": false,
          "start_time": "2022-12-12T03:58:18.158290",
          "status": "completed"
        },
        "tags": [],
        "id": "f5beaaab"
      },
      "outputs": [],
      "source": [
        "preds = model.predict(tf_pred_dataset)"
      ]
    },
    {
      "cell_type": "code",
      "execution_count": null,
      "id": "28c96aa0",
      "metadata": {
        "execution": {
          "iopub.execute_input": "2022-12-12T03:58:26.038076Z",
          "iopub.status.busy": "2022-12-12T03:58:26.037639Z",
          "iopub.status.idle": "2022-12-12T03:58:26.042750Z",
          "shell.execute_reply": "2022-12-12T03:58:26.041660Z"
        },
        "papermill": {
          "duration": 0.307746,
          "end_time": "2022-12-12T03:58:26.047236",
          "exception": false,
          "start_time": "2022-12-12T03:58:25.739490",
          "status": "completed"
        },
        "tags": [],
        "id": "28c96aa0"
      },
      "outputs": [],
      "source": [
        "preds = np.argmax(preds['logits'], axis = 1)"
      ]
    },
    {
      "cell_type": "code",
      "execution_count": null,
      "id": "946799fe",
      "metadata": {
        "execution": {
          "iopub.execute_input": "2022-12-12T03:58:26.477615Z",
          "iopub.status.busy": "2022-12-12T03:58:26.477262Z",
          "iopub.status.idle": "2022-12-12T03:58:26.482945Z",
          "shell.execute_reply": "2022-12-12T03:58:26.481796Z"
        },
        "papermill": {
          "duration": 0.212805,
          "end_time": "2022-12-12T03:58:26.485063",
          "exception": false,
          "start_time": "2022-12-12T03:58:26.272258",
          "status": "completed"
        },
        "tags": [],
        "id": "946799fe"
      },
      "outputs": [],
      "source": [
        "test_df[\"target\"] = preds"
      ]
    },
    {
      "cell_type": "code",
      "execution_count": null,
      "id": "fdb1fb4b",
      "metadata": {
        "execution": {
          "iopub.execute_input": "2022-12-12T03:58:26.889988Z",
          "iopub.status.busy": "2022-12-12T03:58:26.889002Z",
          "iopub.status.idle": "2022-12-12T03:58:26.901275Z",
          "shell.execute_reply": "2022-12-12T03:58:26.900263Z"
        },
        "papermill": {
          "duration": 0.21711,
          "end_time": "2022-12-12T03:58:26.904106",
          "exception": false,
          "start_time": "2022-12-12T03:58:26.686996",
          "status": "completed"
        },
        "tags": [],
        "id": "fdb1fb4b",
        "outputId": "6bf4a14c-8450-4dcf-a5d6-ecea81807281"
      },
      "outputs": [
        {
          "data": {
            "text/html": [
              "<div>\n",
              "<style scoped>\n",
              "    .dataframe tbody tr th:only-of-type {\n",
              "        vertical-align: middle;\n",
              "    }\n",
              "\n",
              "    .dataframe tbody tr th {\n",
              "        vertical-align: top;\n",
              "    }\n",
              "\n",
              "    .dataframe thead th {\n",
              "        text-align: right;\n",
              "    }\n",
              "</style>\n",
              "<table border=\"1\" class=\"dataframe\">\n",
              "  <thead>\n",
              "    <tr style=\"text-align: right;\">\n",
              "      <th></th>\n",
              "      <th>id</th>\n",
              "      <th>target</th>\n",
              "    </tr>\n",
              "  </thead>\n",
              "  <tbody>\n",
              "    <tr>\n",
              "      <th>0</th>\n",
              "      <td>0</td>\n",
              "      <td>1</td>\n",
              "    </tr>\n",
              "    <tr>\n",
              "      <th>1</th>\n",
              "      <td>2</td>\n",
              "      <td>1</td>\n",
              "    </tr>\n",
              "    <tr>\n",
              "      <th>2</th>\n",
              "      <td>3</td>\n",
              "      <td>1</td>\n",
              "    </tr>\n",
              "    <tr>\n",
              "      <th>3</th>\n",
              "      <td>9</td>\n",
              "      <td>1</td>\n",
              "    </tr>\n",
              "    <tr>\n",
              "      <th>4</th>\n",
              "      <td>11</td>\n",
              "      <td>1</td>\n",
              "    </tr>\n",
              "    <tr>\n",
              "      <th>...</th>\n",
              "      <td>...</td>\n",
              "      <td>...</td>\n",
              "    </tr>\n",
              "    <tr>\n",
              "      <th>3258</th>\n",
              "      <td>10861</td>\n",
              "      <td>0</td>\n",
              "    </tr>\n",
              "    <tr>\n",
              "      <th>3259</th>\n",
              "      <td>10865</td>\n",
              "      <td>1</td>\n",
              "    </tr>\n",
              "    <tr>\n",
              "      <th>3260</th>\n",
              "      <td>10868</td>\n",
              "      <td>1</td>\n",
              "    </tr>\n",
              "    <tr>\n",
              "      <th>3261</th>\n",
              "      <td>10874</td>\n",
              "      <td>1</td>\n",
              "    </tr>\n",
              "    <tr>\n",
              "      <th>3262</th>\n",
              "      <td>10875</td>\n",
              "      <td>1</td>\n",
              "    </tr>\n",
              "  </tbody>\n",
              "</table>\n",
              "<p>3263 rows × 2 columns</p>\n",
              "</div>"
            ],
            "text/plain": [
              "         id  target\n",
              "0         0       1\n",
              "1         2       1\n",
              "2         3       1\n",
              "3         9       1\n",
              "4        11       1\n",
              "...     ...     ...\n",
              "3258  10861       0\n",
              "3259  10865       1\n",
              "3260  10868       1\n",
              "3261  10874       1\n",
              "3262  10875       1\n",
              "\n",
              "[3263 rows x 2 columns]"
            ]
          },
          "execution_count": 47,
          "metadata": {},
          "output_type": "execute_result"
        }
      ],
      "source": [
        "sub = test_df[[\"id\", \"target\"]]\n",
        "sub"
      ]
    },
    {
      "cell_type": "code",
      "execution_count": null,
      "id": "be1e195a",
      "metadata": {
        "execution": {
          "iopub.execute_input": "2022-12-12T03:58:27.312356Z",
          "iopub.status.busy": "2022-12-12T03:58:27.311922Z",
          "iopub.status.idle": "2022-12-12T03:58:27.321298Z",
          "shell.execute_reply": "2022-12-12T03:58:27.320391Z"
        },
        "papermill": {
          "duration": 0.217471,
          "end_time": "2022-12-12T03:58:27.323580",
          "exception": false,
          "start_time": "2022-12-12T03:58:27.106109",
          "status": "completed"
        },
        "tags": [],
        "id": "be1e195a"
      },
      "outputs": [],
      "source": [
        "sub.to_csv(\"DistilBERT_FT_Submission.csv\", index = False)"
      ]
    },
    {
      "cell_type": "markdown",
      "id": "01751f01",
      "metadata": {
        "papermill": {
          "duration": 0.206918,
          "end_time": "2022-12-12T03:58:27.779857",
          "exception": false,
          "start_time": "2022-12-12T03:58:27.572939",
          "status": "completed"
        },
        "tags": [],
        "id": "01751f01"
      },
      "source": [
        "![image.png](attachment:4e5219a2-c10d-4596-b616-3ddfebaa305d.png)"
      ]
    },
    {
      "cell_type": "markdown",
      "id": "18ed8d98",
      "metadata": {
        "papermill": {
          "duration": 0.202249,
          "end_time": "2022-12-12T03:58:28.183195",
          "exception": false,
          "start_time": "2022-12-12T03:58:27.980946",
          "status": "completed"
        },
        "tags": [],
        "id": "18ed8d98"
      },
      "source": [
        "## Observations\n",
        "Not bad! Note that we don't tune much this model, so probably we could improve it easily!\n",
        "\n",
        "The important point is how easy is use hub models from huggingface and finetune. If you look the website, you can see that there are a lot of datasets and models made by de comunnity!\n",
        "\n",
        "In the next notebook I will do my best combining all the stuff that we saw in this notebooks NLP series to get a better result. Also I will pre-process the data before feed it into the model\n"
      ]
    },
    {
      "cell_type": "code",
      "execution_count": null,
      "id": "25678313",
      "metadata": {
        "papermill": {
          "duration": 0.202457,
          "end_time": "2022-12-12T03:58:28.587322",
          "exception": false,
          "start_time": "2022-12-12T03:58:28.384865",
          "status": "completed"
        },
        "tags": [],
        "id": "25678313"
      },
      "outputs": [],
      "source": []
    }
  ],
  "metadata": {
    "kernelspec": {
      "display_name": "Python 3",
      "language": "python",
      "name": "python3"
    },
    "language_info": {
      "codemirror_mode": {
        "name": "ipython",
        "version": 3
      },
      "file_extension": ".py",
      "mimetype": "text/x-python",
      "name": "python",
      "nbconvert_exporter": "python",
      "pygments_lexer": "ipython3",
      "version": "3.7.12"
    },
    "papermill": {
      "default_parameters": {},
      "duration": 3338.170669,
      "end_time": "2022-12-12T03:58:32.470745",
      "environment_variables": {},
      "exception": null,
      "input_path": "__notebook__.ipynb",
      "output_path": "__notebook__.ipynb",
      "parameters": {},
      "start_time": "2022-12-12T03:02:54.300076",
      "version": "2.3.4"
    },
    "widgets": {
      "application/vnd.jupyter.widget-state+json": {}
    },
    "colab": {
      "provenance": []
    }
  },
  "nbformat": 4,
  "nbformat_minor": 5
}